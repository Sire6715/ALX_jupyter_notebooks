{
 "cells": [
  {
   "attachments": {},
   "cell_type": "markdown",
   "id": "51b1254d",
   "metadata": {},
   "source": [
    "<div align=\"right\" style=\" font-size: 80%; text-align: center; margin: 0 auto\">\n",
    "<img\n",
    " src=\"https://raw.githubusercontent.com/Explore-AI/Pictures/master/alx-courses/aice/assets/Content_page_banner_blue_dots.png\"\n",
    " alt=\"ALX Content Header\"\n",
    " class=\"full-width-image\"\n",
    "/>\n",
    "</div>"
   ]
  },
  {
   "attachments": {},
   "cell_type": "markdown",
   "id": "f662d169",
   "metadata": {},
   "source": [
    "# SQL numeric functions and aggregations"
   ]
  },
  {
   "attachments": {},
   "cell_type": "markdown",
   "id": "26af890c",
   "metadata": {},
   "source": [
    "In this exercise, we will apply SQL numeric functions and aggregations to query a few tables in our Northwind database. Ensure that you have downloaded the database file, Northwind.db."
   ]
  },
  {
   "attachments": {},
   "cell_type": "markdown",
   "id": "2d230d14",
   "metadata": {},
   "source": [
    "## Learning objectives\n",
    "\n",
    "By the end of this train, you should:\n",
    "- Be able to apply AVG, SUM, MAX, MIN, and COUNT functions.\n",
    "- Know how to aggregate data at different levels using the GROUP BY clause. \n",
    "- Understand how to  order and limit the results."
   ]
  },
  {
   "attachments": {},
   "cell_type": "markdown",
   "id": "7fd5e3b8",
   "metadata": {},
   "source": [
    "First, let's load our sample database:"
   ]
  },
  {
   "cell_type": "code",
   "execution_count": 1,
   "id": "2d0d820e",
   "metadata": {},
   "outputs": [],
   "source": [
    "# Load and activate the SQL extension to allow us to execute SQL in a Jupyter notebook.\n",
    "%load_ext sql\n"
   ]
  },
  {
   "cell_type": "code",
   "execution_count": 2,
   "id": "599e3c6c",
   "metadata": {},
   "outputs": [
    {
     "data": {
      "text/html": [
       "<span style=\"None\">Connecting to &#x27;sqlite:///Northwind.db&#x27;</span>"
      ],
      "text/plain": [
       "Connecting to 'sqlite:///Northwind.db'"
      ]
     },
     "metadata": {},
     "output_type": "display_data"
    }
   ],
   "source": [
    "# Load the Northwind database stored in your local machine. \n",
    "# Make sure the file is saved in the same folder as this notebook.\n",
    "%sql sqlite:///Northwind.db\n",
    "    "
   ]
  },
  {
   "attachments": {},
   "cell_type": "markdown",
   "id": "06af8b46",
   "metadata": {},
   "source": [
    "Here is a view of all of our tables in the database:"
   ]
  },
  {
   "attachments": {},
   "cell_type": "markdown",
   "id": "6ed1f036",
   "metadata": {},
   "source": [
    "<div align=\"center\" style=\" font-size: 80%; text-align: center; margin: 0 auto\">\n",
    "<img src=\"https://raw.githubusercontent.com/Explore-AI/Pictures/master/Northwind_ERD.png\"  style=\"width:500px\";/>\n",
    "<br>\n",
    "<br>\n",
    "    <em>Figure 1: Northwind ERD</em>\n",
    "</div>"
   ]
  },
  {
   "attachments": {},
   "cell_type": "markdown",
   "id": "920e89d2",
   "metadata": {},
   "source": [
    "## Exercise\n",
    "\n",
    "Run the necessary queries that will provide us with the following information. Compare your queries with the solutions at the end of this notebook."
   ]
  },
  {
   "attachments": {},
   "cell_type": "markdown",
   "id": "466e53c1",
   "metadata": {},
   "source": [
    "### Exercise 1\n",
    "\n",
    "Display the average unit price of products in the 'Products' table."
   ]
  },
  {
   "cell_type": "code",
   "execution_count": 5,
   "id": "038f28ea",
   "metadata": {},
   "outputs": [
    {
     "data": {
      "text/html": [
       "<span style=\"None\">Running query in &#x27;sqlite:///Northwind.db&#x27;</span>"
      ],
      "text/plain": [
       "Running query in 'sqlite:///Northwind.db'"
      ]
     },
     "metadata": {},
     "output_type": "display_data"
    },
    {
     "data": {
      "text/html": [
       "<table>\n",
       "    <thead>\n",
       "        <tr>\n",
       "            <th>Average_Unit_Price</th>\n",
       "        </tr>\n",
       "    </thead>\n",
       "    <tbody>\n",
       "        <tr>\n",
       "            <td>28.866363636363637</td>\n",
       "        </tr>\n",
       "    </tbody>\n",
       "</table>"
      ],
      "text/plain": [
       "+--------------------+\n",
       "| Average_Unit_Price |\n",
       "+--------------------+\n",
       "| 28.866363636363637 |\n",
       "+--------------------+"
      ]
     },
     "execution_count": 5,
     "metadata": {},
     "output_type": "execute_result"
    }
   ],
   "source": [
    "%%sql\n",
    "SELECT \n",
    "    AVG(UnitPrice) AS Average_Unit_Price\n",
    "FROM \n",
    "    Products;"
   ]
  },
  {
   "attachments": {},
   "cell_type": "markdown",
   "id": "86802726",
   "metadata": {},
   "source": [
    "### Exercise 2\n",
    "\n",
    "\n",
    "Show the total quantity of products sold for each ProductID. Use the 'OrderDetails' table."
   ]
  },
  {
   "cell_type": "code",
   "execution_count": 8,
   "id": "91f3421f",
   "metadata": {},
   "outputs": [
    {
     "data": {
      "text/html": [
       "<span style=\"None\">Running query in &#x27;sqlite:///Northwind.db&#x27;</span>"
      ],
      "text/plain": [
       "Running query in 'sqlite:///Northwind.db'"
      ]
     },
     "metadata": {},
     "output_type": "display_data"
    },
    {
     "data": {
      "text/html": [
       "<table>\n",
       "    <thead>\n",
       "        <tr>\n",
       "            <th>SUM(Quantity)</th>\n",
       "            <th>Total_Quantity_Of_Products_Sold</th>\n",
       "        </tr>\n",
       "    </thead>\n",
       "    <tbody>\n",
       "        <tr>\n",
       "            <td>828</td>\n",
       "            <td>1</td>\n",
       "        </tr>\n",
       "        <tr>\n",
       "            <td>1057</td>\n",
       "            <td>2</td>\n",
       "        </tr>\n",
       "        <tr>\n",
       "            <td>328</td>\n",
       "            <td>3</td>\n",
       "        </tr>\n",
       "        <tr>\n",
       "            <td>453</td>\n",
       "            <td>4</td>\n",
       "        </tr>\n",
       "        <tr>\n",
       "            <td>298</td>\n",
       "            <td>5</td>\n",
       "        </tr>\n",
       "        <tr>\n",
       "            <td>301</td>\n",
       "            <td>6</td>\n",
       "        </tr>\n",
       "        <tr>\n",
       "            <td>763</td>\n",
       "            <td>7</td>\n",
       "        </tr>\n",
       "        <tr>\n",
       "            <td>372</td>\n",
       "            <td>8</td>\n",
       "        </tr>\n",
       "        <tr>\n",
       "            <td>95</td>\n",
       "            <td>9</td>\n",
       "        </tr>\n",
       "        <tr>\n",
       "            <td>742</td>\n",
       "            <td>10</td>\n",
       "        </tr>\n",
       "    </tbody>\n",
       "</table>\n",
       "<span style=\"font-style:italic;text-align:center;\">Truncated to <a href=\"https://jupysql.ploomber.io/en/latest/api/configuration.html#displaylimit\">displaylimit</a> of 10.</span>"
      ],
      "text/plain": [
       "+---------------+---------------------------------+\n",
       "| SUM(Quantity) | Total_Quantity_Of_Products_Sold |\n",
       "+---------------+---------------------------------+\n",
       "|      828      |                1                |\n",
       "|      1057     |                2                |\n",
       "|      328      |                3                |\n",
       "|      453      |                4                |\n",
       "|      298      |                5                |\n",
       "|      301      |                6                |\n",
       "|      763      |                7                |\n",
       "|      372      |                8                |\n",
       "|       95      |                9                |\n",
       "|      742      |                10               |\n",
       "+---------------+---------------------------------+\n",
       "Truncated to displaylimit of 10."
      ]
     },
     "execution_count": 8,
     "metadata": {},
     "output_type": "execute_result"
    }
   ],
   "source": [
    "%%sql\n",
    "SELECT \n",
    "    SUM(Quantity), ProductID \n",
    "AS \n",
    "    Total_Quantity_Of_Products_Sold \n",
    "FROM \n",
    "    OrderDetails GROUP BY ProductID;"
   ]
  },
  {
   "attachments": {},
   "cell_type": "markdown",
   "id": "f0fade51",
   "metadata": {},
   "source": [
    "### Exercise 3\n",
    "\n",
    "\n",
    "Find the maximum, minimum, and average freight from the 'Orders' table."
   ]
  },
  {
   "cell_type": "code",
   "execution_count": 10,
   "id": "748f4263",
   "metadata": {},
   "outputs": [
    {
     "data": {
      "text/html": [
       "<span style=\"None\">Running query in &#x27;sqlite:///Northwind.db&#x27;</span>"
      ],
      "text/plain": [
       "Running query in 'sqlite:///Northwind.db'"
      ]
     },
     "metadata": {},
     "output_type": "display_data"
    },
    {
     "data": {
      "text/html": [
       "<table>\n",
       "    <thead>\n",
       "        <tr>\n",
       "            <th>Min_Freight</th>\n",
       "            <th>Max_Freight</th>\n",
       "            <th>Avg_Freight</th>\n",
       "        </tr>\n",
       "    </thead>\n",
       "    <tbody>\n",
       "        <tr>\n",
       "            <td>0.02</td>\n",
       "            <td>1007.64</td>\n",
       "            <td>78.24420481927712</td>\n",
       "        </tr>\n",
       "    </tbody>\n",
       "</table>"
      ],
      "text/plain": [
       "+-------------+-------------+-------------------+\n",
       "| Min_Freight | Max_Freight |    Avg_Freight    |\n",
       "+-------------+-------------+-------------------+\n",
       "|     0.02    |   1007.64   | 78.24420481927712 |\n",
       "+-------------+-------------+-------------------+"
      ]
     },
     "execution_count": 10,
     "metadata": {},
     "output_type": "execute_result"
    }
   ],
   "source": [
    "%%sql\n",
    "SELECT \n",
    "    MIN(Freight) AS Min_Freight,\n",
    "    MAX(Freight) AS Max_Freight, \n",
    "    AVG(Freight) AS Avg_Freight  \n",
    "FROM Orders;"
   ]
  },
  {
   "attachments": {},
   "cell_type": "markdown",
   "id": "f28aef00",
   "metadata": {},
   "source": [
    "### Exercise 4\n",
    "\n",
    "How many unique customers have made orders? Use the 'Orders' table."
   ]
  },
  {
   "cell_type": "code",
   "execution_count": 13,
   "id": "f4621a53",
   "metadata": {},
   "outputs": [
    {
     "data": {
      "text/html": [
       "<span style=\"None\">Running query in &#x27;sqlite:///Northwind.db&#x27;</span>"
      ],
      "text/plain": [
       "Running query in 'sqlite:///Northwind.db'"
      ]
     },
     "metadata": {},
     "output_type": "display_data"
    },
    {
     "data": {
      "text/html": [
       "<table>\n",
       "    <thead>\n",
       "        <tr>\n",
       "            <th>COUNT(DISTINCT CustomerID)</th>\n",
       "        </tr>\n",
       "    </thead>\n",
       "    <tbody>\n",
       "        <tr>\n",
       "            <td>89</td>\n",
       "        </tr>\n",
       "    </tbody>\n",
       "</table>"
      ],
      "text/plain": [
       "+----------------------------+\n",
       "| COUNT(DISTINCT CustomerID) |\n",
       "+----------------------------+\n",
       "|             89             |\n",
       "+----------------------------+"
      ]
     },
     "execution_count": 13,
     "metadata": {},
     "output_type": "execute_result"
    }
   ],
   "source": [
    "%%sql\n",
    "SELECT COUNT(DISTINCT CustomerID) FROM Orders;"
   ]
  },
  {
   "attachments": {},
   "cell_type": "markdown",
   "id": "ca92cba7",
   "metadata": {},
   "source": [
    "### Exercise 5\n",
    "\n",
    "What is the total price for each order? You need to multiply the unit price by the quantity and subtract the discount for each order detail, then sum all the order details for each order. Use the 'OrderDetails' table."
   ]
  },
  {
   "cell_type": "code",
   "execution_count": 29,
   "id": "4342a0f5",
   "metadata": {},
   "outputs": [
    {
     "data": {
      "text/html": [
       "<span style=\"None\">Running query in &#x27;sqlite:///Northwind.db&#x27;</span>"
      ],
      "text/plain": [
       "Running query in 'sqlite:///Northwind.db'"
      ]
     },
     "metadata": {},
     "output_type": "display_data"
    },
    {
     "data": {
      "text/html": [
       "<table>\n",
       "    <thead>\n",
       "        <tr>\n",
       "            <th>TotalPrice</th>\n",
       "            <th>OrderID</th>\n",
       "        </tr>\n",
       "    </thead>\n",
       "    <tbody>\n",
       "        <tr>\n",
       "            <td>440.0</td>\n",
       "            <td>10248</td>\n",
       "        </tr>\n",
       "        <tr>\n",
       "            <td>1863.4</td>\n",
       "            <td>10249</td>\n",
       "        </tr>\n",
       "        <tr>\n",
       "            <td>1813.0</td>\n",
       "            <td>10250</td>\n",
       "        </tr>\n",
       "        <tr>\n",
       "            <td>670.8</td>\n",
       "            <td>10251</td>\n",
       "        </tr>\n",
       "        <tr>\n",
       "            <td>3730.0</td>\n",
       "            <td>10252</td>\n",
       "        </tr>\n",
       "        <tr>\n",
       "            <td>1444.8000000000002</td>\n",
       "            <td>10253</td>\n",
       "        </tr>\n",
       "        <tr>\n",
       "            <td>625.2</td>\n",
       "            <td>10254</td>\n",
       "        </tr>\n",
       "        <tr>\n",
       "            <td>2490.5</td>\n",
       "            <td>10255</td>\n",
       "        </tr>\n",
       "        <tr>\n",
       "            <td>517.8</td>\n",
       "            <td>10256</td>\n",
       "        </tr>\n",
       "        <tr>\n",
       "            <td>1119.9</td>\n",
       "            <td>10257</td>\n",
       "        </tr>\n",
       "    </tbody>\n",
       "</table>\n",
       "<span style=\"font-style:italic;text-align:center;\">Truncated to <a href=\"https://jupysql.ploomber.io/en/latest/api/configuration.html#displaylimit\">displaylimit</a> of 10.</span>"
      ],
      "text/plain": [
       "+--------------------+---------+\n",
       "|     TotalPrice     | OrderID |\n",
       "+--------------------+---------+\n",
       "|       440.0        |  10248  |\n",
       "|       1863.4       |  10249  |\n",
       "|       1813.0       |  10250  |\n",
       "|       670.8        |  10251  |\n",
       "|       3730.0       |  10252  |\n",
       "| 1444.8000000000002 |  10253  |\n",
       "|       625.2        |  10254  |\n",
       "|       2490.5       |  10255  |\n",
       "|       517.8        |  10256  |\n",
       "|       1119.9       |  10257  |\n",
       "+--------------------+---------+\n",
       "Truncated to displaylimit of 10."
      ]
     },
     "execution_count": 29,
     "metadata": {},
     "output_type": "execute_result"
    }
   ],
   "source": [
    "%%sql\n",
    "SELECT \n",
    "    SUM((UnitPrice * Quantity) - Discount) AS TotalPrice, \n",
    "    OrderID\n",
    "FROM \n",
    "    OrderDetails\n",
    "GROUP BY \n",
    "    OrderID;\n",
    "\n",
    "-- SELECT * FROM OrderDetails;"
   ]
  },
  {
   "attachments": {},
   "cell_type": "markdown",
   "id": "7a51093c",
   "metadata": {},
   "source": [
    "### Challenge question\n",
    "\n",
    "What are the 5 largest orders processed? (Hint: Use the 'OrderDetails' table.)"
   ]
  },
  {
   "cell_type": "code",
   "execution_count": 38,
   "id": "99479d5f",
   "metadata": {},
   "outputs": [
    {
     "data": {
      "text/html": [
       "<span style=\"None\">Running query in &#x27;sqlite:///Northwind.db&#x27;</span>"
      ],
      "text/plain": [
       "Running query in 'sqlite:///Northwind.db'"
      ]
     },
     "metadata": {},
     "output_type": "display_data"
    },
    {
     "data": {
      "text/html": [
       "<table>\n",
       "    <thead>\n",
       "        <tr>\n",
       "            <th>OrderID</th>\n",
       "            <th>TotalQuantity</th>\n",
       "        </tr>\n",
       "    </thead>\n",
       "    <tbody>\n",
       "        <tr>\n",
       "            <td>10895</td>\n",
       "            <td>346</td>\n",
       "        </tr>\n",
       "        <tr>\n",
       "            <td>11030</td>\n",
       "            <td>330</td>\n",
       "        </tr>\n",
       "        <tr>\n",
       "            <td>10847</td>\n",
       "            <td>288</td>\n",
       "        </tr>\n",
       "        <tr>\n",
       "            <td>10515</td>\n",
       "            <td>286</td>\n",
       "        </tr>\n",
       "        <tr>\n",
       "            <td>10678</td>\n",
       "            <td>280</td>\n",
       "        </tr>\n",
       "        <tr>\n",
       "            <td>10612</td>\n",
       "            <td>263</td>\n",
       "        </tr>\n",
       "        <tr>\n",
       "            <td>10990</td>\n",
       "            <td>256</td>\n",
       "        </tr>\n",
       "        <tr>\n",
       "            <td>10658</td>\n",
       "            <td>255</td>\n",
       "        </tr>\n",
       "        <tr>\n",
       "            <td>10845</td>\n",
       "            <td>245</td>\n",
       "        </tr>\n",
       "        <tr>\n",
       "            <td>10324</td>\n",
       "            <td>241</td>\n",
       "        </tr>\n",
       "    </tbody>\n",
       "</table>\n",
       "<span style=\"font-style:italic;text-align:center;\">Truncated to <a href=\"https://jupysql.ploomber.io/en/latest/api/configuration.html#displaylimit\">displaylimit</a> of 10.</span>"
      ],
      "text/plain": [
       "+---------+---------------+\n",
       "| OrderID | TotalQuantity |\n",
       "+---------+---------------+\n",
       "|  10895  |      346      |\n",
       "|  11030  |      330      |\n",
       "|  10847  |      288      |\n",
       "|  10515  |      286      |\n",
       "|  10678  |      280      |\n",
       "|  10612  |      263      |\n",
       "|  10990  |      256      |\n",
       "|  10658  |      255      |\n",
       "|  10845  |      245      |\n",
       "|  10324  |      241      |\n",
       "+---------+---------------+\n",
       "Truncated to displaylimit of 10."
      ]
     },
     "execution_count": 38,
     "metadata": {},
     "output_type": "execute_result"
    }
   ],
   "source": [
    "%%sql\n",
    "SELECT \n",
    "    OrderID, SUM(Quantity) AS TotalQuantity \n",
    "FROM \n",
    "    OrderDetails \n",
    "    GROUP BY OrderID \n",
    "    ORDER BY TotalQuantity DESC;"
   ]
  },
  {
   "attachments": {},
   "cell_type": "markdown",
   "id": "b3c88335",
   "metadata": {},
   "source": [
    "## Solutions"
   ]
  },
  {
   "attachments": {},
   "cell_type": "markdown",
   "id": "a5084b12",
   "metadata": {},
   "source": [
    "### Exercise 1"
   ]
  },
  {
   "cell_type": "code",
   "execution_count": 39,
   "id": "c968d875",
   "metadata": {
    "scrolled": true
   },
   "outputs": [
    {
     "data": {
      "text/html": [
       "<span style=\"None\">Running query in &#x27;sqlite:///Northwind.db&#x27;</span>"
      ],
      "text/plain": [
       "Running query in 'sqlite:///Northwind.db'"
      ]
     },
     "metadata": {},
     "output_type": "display_data"
    },
    {
     "data": {
      "text/html": [
       "<table>\n",
       "    <thead>\n",
       "        <tr>\n",
       "            <th>AVG(UnitPrice)</th>\n",
       "        </tr>\n",
       "    </thead>\n",
       "    <tbody>\n",
       "        <tr>\n",
       "            <td>28.866363636363637</td>\n",
       "        </tr>\n",
       "    </tbody>\n",
       "</table>"
      ],
      "text/plain": [
       "+--------------------+\n",
       "|   AVG(UnitPrice)   |\n",
       "+--------------------+\n",
       "| 28.866363636363637 |\n",
       "+--------------------+"
      ]
     },
     "execution_count": 39,
     "metadata": {},
     "output_type": "execute_result"
    }
   ],
   "source": [
    "%%sql\n",
    "\n",
    "SELECT \n",
    "    AVG(UnitPrice) \n",
    "FROM \n",
    "    Products;"
   ]
  },
  {
   "attachments": {},
   "cell_type": "markdown",
   "id": "294d8eef",
   "metadata": {},
   "source": [
    "### Exercise 2"
   ]
  },
  {
   "cell_type": "code",
   "execution_count": 40,
   "id": "03071e34",
   "metadata": {},
   "outputs": [
    {
     "data": {
      "text/html": [
       "<span style=\"None\">Running query in &#x27;sqlite:///Northwind.db&#x27;</span>"
      ],
      "text/plain": [
       "Running query in 'sqlite:///Northwind.db'"
      ]
     },
     "metadata": {},
     "output_type": "display_data"
    },
    {
     "data": {
      "text/html": [
       "<table>\n",
       "    <thead>\n",
       "        <tr>\n",
       "            <th>ProductID</th>\n",
       "            <th>TotalQuantity</th>\n",
       "        </tr>\n",
       "    </thead>\n",
       "    <tbody>\n",
       "        <tr>\n",
       "            <td>1</td>\n",
       "            <td>828</td>\n",
       "        </tr>\n",
       "        <tr>\n",
       "            <td>2</td>\n",
       "            <td>1057</td>\n",
       "        </tr>\n",
       "        <tr>\n",
       "            <td>3</td>\n",
       "            <td>328</td>\n",
       "        </tr>\n",
       "        <tr>\n",
       "            <td>4</td>\n",
       "            <td>453</td>\n",
       "        </tr>\n",
       "        <tr>\n",
       "            <td>5</td>\n",
       "            <td>298</td>\n",
       "        </tr>\n",
       "        <tr>\n",
       "            <td>6</td>\n",
       "            <td>301</td>\n",
       "        </tr>\n",
       "        <tr>\n",
       "            <td>7</td>\n",
       "            <td>763</td>\n",
       "        </tr>\n",
       "        <tr>\n",
       "            <td>8</td>\n",
       "            <td>372</td>\n",
       "        </tr>\n",
       "        <tr>\n",
       "            <td>9</td>\n",
       "            <td>95</td>\n",
       "        </tr>\n",
       "        <tr>\n",
       "            <td>10</td>\n",
       "            <td>742</td>\n",
       "        </tr>\n",
       "    </tbody>\n",
       "</table>\n",
       "<span style=\"font-style:italic;text-align:center;\">Truncated to <a href=\"https://jupysql.ploomber.io/en/latest/api/configuration.html#displaylimit\">displaylimit</a> of 10.</span>"
      ],
      "text/plain": [
       "+-----------+---------------+\n",
       "| ProductID | TotalQuantity |\n",
       "+-----------+---------------+\n",
       "|     1     |      828      |\n",
       "|     2     |      1057     |\n",
       "|     3     |      328      |\n",
       "|     4     |      453      |\n",
       "|     5     |      298      |\n",
       "|     6     |      301      |\n",
       "|     7     |      763      |\n",
       "|     8     |      372      |\n",
       "|     9     |       95      |\n",
       "|     10    |      742      |\n",
       "+-----------+---------------+\n",
       "Truncated to displaylimit of 10."
      ]
     },
     "execution_count": 40,
     "metadata": {},
     "output_type": "execute_result"
    }
   ],
   "source": [
    "%%sql\n",
    "\n",
    "SELECT \n",
    "    ProductID,\n",
    "    SUM(Quantity) as TotalQuantity\n",
    "FROM \n",
    "    OrderDetails\n",
    "GROUP BY \n",
    "    ProductID;\n"
   ]
  },
  {
   "attachments": {},
   "cell_type": "markdown",
   "id": "eafe40b6",
   "metadata": {},
   "source": [
    "### Exercise 3"
   ]
  },
  {
   "cell_type": "code",
   "execution_count": 41,
   "id": "1ffd2239",
   "metadata": {},
   "outputs": [
    {
     "data": {
      "text/html": [
       "<span style=\"None\">Running query in &#x27;sqlite:///Northwind.db&#x27;</span>"
      ],
      "text/plain": [
       "Running query in 'sqlite:///Northwind.db'"
      ]
     },
     "metadata": {},
     "output_type": "display_data"
    },
    {
     "data": {
      "text/html": [
       "<table>\n",
       "    <thead>\n",
       "        <tr>\n",
       "            <th>MaxFreight</th>\n",
       "            <th>MinFreight</th>\n",
       "            <th>AvgFreight</th>\n",
       "        </tr>\n",
       "    </thead>\n",
       "    <tbody>\n",
       "        <tr>\n",
       "            <td>1007.64</td>\n",
       "            <td>0.02</td>\n",
       "            <td>78.24420481927712</td>\n",
       "        </tr>\n",
       "    </tbody>\n",
       "</table>"
      ],
      "text/plain": [
       "+------------+------------+-------------------+\n",
       "| MaxFreight | MinFreight |     AvgFreight    |\n",
       "+------------+------------+-------------------+\n",
       "|  1007.64   |    0.02    | 78.24420481927712 |\n",
       "+------------+------------+-------------------+"
      ]
     },
     "execution_count": 41,
     "metadata": {},
     "output_type": "execute_result"
    }
   ],
   "source": [
    "%%sql\n",
    "\n",
    "SELECT \n",
    "    MAX(Freight) as MaxFreight,\n",
    "    MIN(Freight) as MinFreight,\n",
    "    AVG(Freight) as AvgFreight\n",
    "FROM \n",
    "    Orders;\n"
   ]
  },
  {
   "attachments": {},
   "cell_type": "markdown",
   "id": "e9956efe",
   "metadata": {},
   "source": [
    "### Exercise 4"
   ]
  },
  {
   "cell_type": "code",
   "execution_count": 42,
   "id": "cd662edc",
   "metadata": {},
   "outputs": [
    {
     "data": {
      "text/html": [
       "<span style=\"None\">Running query in &#x27;sqlite:///Northwind.db&#x27;</span>"
      ],
      "text/plain": [
       "Running query in 'sqlite:///Northwind.db'"
      ]
     },
     "metadata": {},
     "output_type": "display_data"
    },
    {
     "data": {
      "text/html": [
       "<table>\n",
       "    <thead>\n",
       "        <tr>\n",
       "            <th>COUNT(DISTINCT CustomerID)</th>\n",
       "        </tr>\n",
       "    </thead>\n",
       "    <tbody>\n",
       "        <tr>\n",
       "            <td>89</td>\n",
       "        </tr>\n",
       "    </tbody>\n",
       "</table>"
      ],
      "text/plain": [
       "+----------------------------+\n",
       "| COUNT(DISTINCT CustomerID) |\n",
       "+----------------------------+\n",
       "|             89             |\n",
       "+----------------------------+"
      ]
     },
     "execution_count": 42,
     "metadata": {},
     "output_type": "execute_result"
    }
   ],
   "source": [
    "%%sql\n",
    "\n",
    "SELECT \n",
    "    COUNT(DISTINCT CustomerID) \n",
    "FROM \n",
    "    Orders;"
   ]
  },
  {
   "attachments": {},
   "cell_type": "markdown",
   "id": "dee904e7",
   "metadata": {},
   "source": [
    "### Exercise 5"
   ]
  },
  {
   "cell_type": "code",
   "execution_count": 43,
   "id": "ac14f515",
   "metadata": {},
   "outputs": [
    {
     "data": {
      "text/html": [
       "<span style=\"None\">Running query in &#x27;sqlite:///Northwind.db&#x27;</span>"
      ],
      "text/plain": [
       "Running query in 'sqlite:///Northwind.db'"
      ]
     },
     "metadata": {},
     "output_type": "display_data"
    },
    {
     "data": {
      "text/html": [
       "<table>\n",
       "    <thead>\n",
       "        <tr>\n",
       "            <th>OrderID</th>\n",
       "            <th>TotalPrice</th>\n",
       "        </tr>\n",
       "    </thead>\n",
       "    <tbody>\n",
       "        <tr>\n",
       "            <td>10248</td>\n",
       "            <td>440.0</td>\n",
       "        </tr>\n",
       "        <tr>\n",
       "            <td>10249</td>\n",
       "            <td>1863.4</td>\n",
       "        </tr>\n",
       "        <tr>\n",
       "            <td>10250</td>\n",
       "            <td>1813.0</td>\n",
       "        </tr>\n",
       "        <tr>\n",
       "            <td>10251</td>\n",
       "            <td>670.8</td>\n",
       "        </tr>\n",
       "        <tr>\n",
       "            <td>10252</td>\n",
       "            <td>3730.0</td>\n",
       "        </tr>\n",
       "        <tr>\n",
       "            <td>10253</td>\n",
       "            <td>1444.8000000000002</td>\n",
       "        </tr>\n",
       "        <tr>\n",
       "            <td>10254</td>\n",
       "            <td>625.2</td>\n",
       "        </tr>\n",
       "        <tr>\n",
       "            <td>10255</td>\n",
       "            <td>2490.5</td>\n",
       "        </tr>\n",
       "        <tr>\n",
       "            <td>10256</td>\n",
       "            <td>517.8</td>\n",
       "        </tr>\n",
       "        <tr>\n",
       "            <td>10257</td>\n",
       "            <td>1119.9</td>\n",
       "        </tr>\n",
       "    </tbody>\n",
       "</table>\n",
       "<span style=\"font-style:italic;text-align:center;\">Truncated to <a href=\"https://jupysql.ploomber.io/en/latest/api/configuration.html#displaylimit\">displaylimit</a> of 10.</span>"
      ],
      "text/plain": [
       "+---------+--------------------+\n",
       "| OrderID |     TotalPrice     |\n",
       "+---------+--------------------+\n",
       "|  10248  |       440.0        |\n",
       "|  10249  |       1863.4       |\n",
       "|  10250  |       1813.0       |\n",
       "|  10251  |       670.8        |\n",
       "|  10252  |       3730.0       |\n",
       "|  10253  | 1444.8000000000002 |\n",
       "|  10254  |       625.2        |\n",
       "|  10255  |       2490.5       |\n",
       "|  10256  |       517.8        |\n",
       "|  10257  |       1119.9       |\n",
       "+---------+--------------------+\n",
       "Truncated to displaylimit of 10."
      ]
     },
     "execution_count": 43,
     "metadata": {},
     "output_type": "execute_result"
    }
   ],
   "source": [
    "%%sql\n",
    "\n",
    "SELECT \n",
    "    OrderID, \n",
    "    SUM(UnitPrice * Quantity * (1 - Discount)) as TotalPrice \n",
    "FROM \n",
    "    OrderDetails\n",
    "GROUP BY \n",
    "    OrderID;"
   ]
  },
  {
   "attachments": {},
   "cell_type": "markdown",
   "id": "c1341a11",
   "metadata": {},
   "source": [
    "### Challenge question"
   ]
  },
  {
   "cell_type": "code",
   "execution_count": null,
   "id": "9a0cf068",
   "metadata": {},
   "outputs": [],
   "source": [
    "%%sql\n",
    "\n",
    "SELECT \n",
    "    OrderID, \n",
    "    SUM(Quantity) as TotalQuantity \n",
    "FROM \n",
    "    OrderDetails\n",
    "GROUP BY \n",
    "    OrderID\n",
    "ORDER BY \n",
    "    TotalQuantity DESC \n",
    "LIMIT 5;"
   ]
  },
  {
   "attachments": {},
   "cell_type": "markdown",
   "id": "6d8d9bdd",
   "metadata": {},
   "source": [
    "<div align=\"center\" style=\" font-size: 80%; text-align: center; margin: 0 auto\">\n",
    "<img src=\"https://raw.githubusercontent.com/Explore-AI/Pictures/refs/heads/master/ALX_banners/ALX_Navy.png\"  style=\"width:100px\"  ;/>\n",
    "</div>"
   ]
  }
 ],
 "metadata": {
  "kernelspec": {
   "display_name": "Python 3 (ipykernel)",
   "language": "python",
   "name": "python3"
  },
  "language_info": {
   "codemirror_mode": {
    "name": "ipython",
    "version": 3
   },
   "file_extension": ".py",
   "mimetype": "text/x-python",
   "name": "python",
   "nbconvert_exporter": "python",
   "pygments_lexer": "ipython3",
   "version": "3.13.2"
  }
 },
 "nbformat": 4,
 "nbformat_minor": 5
}
