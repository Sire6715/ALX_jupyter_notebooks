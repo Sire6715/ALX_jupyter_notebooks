{
 "cells": [
  {
   "cell_type": "markdown",
   "id": "51b1254d",
   "metadata": {},
   "source": [
    "<div align=\"right\" style=\" font-size: 80%; text-align: center; margin: 0 auto\">\n",
    "<img\n",
    " src=\"https://raw.githubusercontent.com/Explore-AI/Pictures/master/alx-courses/aice/assets/Content_page_banner_blue_dots.png\"\n",
    " alt=\"ALX Content Header\"\n",
    " class=\"full-width-image\"\n",
    "/>\n",
    "</div>"
   ]
  },
  {
   "cell_type": "markdown",
   "id": "f662d169",
   "metadata": {},
   "source": [
    "# Creating views 2"
   ]
  },
  {
   "cell_type": "markdown",
   "id": "26af890c",
   "metadata": {},
   "source": [
    "In this exercise, we will test our understanding of the concepts of database views in database designs. \n",
    "\n",
    "Ensure that you have downloaded the database file Northwind.db."
   ]
  },
  {
   "cell_type": "markdown",
   "id": "2d230d14",
   "metadata": {},
   "source": [
    "## Learning objectives\n",
    "\n",
    "By the end of this train, you should be able to:\n",
    "- Create, use, and update views in SQL."
   ]
  },
  {
   "cell_type": "markdown",
   "id": "7fd5e3b8",
   "metadata": {},
   "source": [
    "First, let's load our sample database:"
   ]
  },
  {
   "cell_type": "code",
   "execution_count": 21,
   "id": "2d0d820e",
   "metadata": {},
   "outputs": [
    {
     "name": "stdout",
     "output_type": "stream",
     "text": [
      "The sql extension is already loaded. To reload it, use:\n",
      "  %reload_ext sql\n"
     ]
    }
   ],
   "source": [
    "# Load and activate the SQL extension to allow us to execute SQL in a Jupyter notebook.\n",
    "%load_ext sql\n"
   ]
  },
  {
   "cell_type": "code",
   "execution_count": 22,
   "id": "599e3c6c",
   "metadata": {},
   "outputs": [],
   "source": [
    "# Load the Northwind database stored in your local machine. \n",
    "# Make sure the file is saved in the same folder as this notebook.\n",
    "%sql sqlite:///Northwind.db"
   ]
  },
  {
   "cell_type": "markdown",
   "id": "06af8b46",
   "metadata": {},
   "source": [
    "Here is a [view](https://www.lucidchart.com/pages/er-diagrams) of all of our tables in the database:"
   ]
  },
  {
   "cell_type": "markdown",
   "id": "08883cce",
   "metadata": {},
   "source": [
    "<div align=\"center\" style=\" font-size: 80%; text-align: center; margin: 0 auto\">\n",
    "<img src=\"https://raw.githubusercontent.com/Explore-AI/Pictures/master/Northwind_ERD.png\"  style=\"width:500px\";/>\n",
    "<br>\n",
    "<br>\n",
    "    <em>Figure 1: Northwind ERD</em>\n",
    "</div>\n",
    "\n"
   ]
  },
  {
   "cell_type": "markdown",
   "id": "fab74552",
   "metadata": {},
   "source": [
    "[Image source](https://www.sqlitetutorial.net/sqlite-sample-database/)"
   ]
  },
  {
   "cell_type": "markdown",
   "id": "920e89d2",
   "metadata": {},
   "source": [
    "## Exercise\n",
    "\n",
    "Run the necessary queries that will provide us with the following information. Compare your queries with the solutions at the end of this notebook."
   ]
  },
  {
   "cell_type": "markdown",
   "id": "466e53c1",
   "metadata": {},
   "source": [
    "### Exercise 1\n",
    "\n",
    "Write a SQL statement to create a view named `CustomerOrderView` that shows the `CustomerID`, `OrderID`, and `OrderDate` from the Orders table, and `CompanyName` from the Customers table.\n"
   ]
  },
  {
   "cell_type": "code",
   "execution_count": 8,
   "id": "038f28ea",
   "metadata": {},
   "outputs": [
    {
     "data": {
      "text/html": [
       "<span style=\"None\">Running query in &#x27;sqlite:///Northwind.db&#x27;</span>"
      ],
      "text/plain": [
       "Running query in 'sqlite:///Northwind.db'"
      ]
     },
     "metadata": {},
     "output_type": "display_data"
    },
    {
     "data": {
      "text/html": [
       "<table>\n",
       "    <thead>\n",
       "        <tr>\n",
       "        </tr>\n",
       "    </thead>\n",
       "    <tbody>\n",
       "    </tbody>\n",
       "</table>"
      ],
      "text/plain": [
       "++\n",
       "||\n",
       "++\n",
       "++"
      ]
     },
     "execution_count": 8,
     "metadata": {},
     "output_type": "execute_result"
    }
   ],
   "source": [
    "%%sql\n",
    "CREATE VIEW CustomerOrderView AS\n",
    "SELECT o.CustomerID, o.OrderID, o.OrderDate, c.CompanyName \n",
    "FROM Orders AS o INNER JOIN Customers AS c ON c.customerID = o.customerID;"
   ]
  },
  {
   "cell_type": "markdown",
   "id": "86802726",
   "metadata": {},
   "source": [
    "### Exercise 2\n",
    "\n",
    "\n",
    "Write a SQL query to retrieve all the data from the `CustomerOrderView` view."
   ]
  },
  {
   "cell_type": "code",
   "execution_count": 16,
   "id": "91f3421f",
   "metadata": {},
   "outputs": [
    {
     "data": {
      "text/html": [
       "<span style=\"None\">Running query in &#x27;sqlite:///Northwind.db&#x27;</span>"
      ],
      "text/plain": [
       "Running query in 'sqlite:///Northwind.db'"
      ]
     },
     "metadata": {},
     "output_type": "display_data"
    },
    {
     "data": {
      "text/html": [
       "<table>\n",
       "    <thead>\n",
       "        <tr>\n",
       "            <th>CustomerID</th>\n",
       "            <th>OrderID</th>\n",
       "            <th>OrderDate</th>\n",
       "            <th>CompanyName</th>\n",
       "        </tr>\n",
       "    </thead>\n",
       "    <tbody>\n",
       "        <tr>\n",
       "            <td>VINET</td>\n",
       "            <td>10248</td>\n",
       "            <td>1996-07-04 00:00:00</td>\n",
       "            <td>Vins et alcools Chevalier</td>\n",
       "        </tr>\n",
       "        <tr>\n",
       "            <td>TOMSP</td>\n",
       "            <td>10249</td>\n",
       "            <td>1996-07-05 00:00:00</td>\n",
       "            <td>Toms Spezialitten</td>\n",
       "        </tr>\n",
       "        <tr>\n",
       "            <td>HANAR</td>\n",
       "            <td>10250</td>\n",
       "            <td>1996-07-08 00:00:00</td>\n",
       "            <td>Hanari Carnes</td>\n",
       "        </tr>\n",
       "        <tr>\n",
       "            <td>VICTE</td>\n",
       "            <td>10251</td>\n",
       "            <td>1996-07-08 00:00:00</td>\n",
       "            <td>Victuailles en stock</td>\n",
       "        </tr>\n",
       "        <tr>\n",
       "            <td>SUPRD</td>\n",
       "            <td>10252</td>\n",
       "            <td>1996-07-09 00:00:00</td>\n",
       "            <td>Suprmes dlices</td>\n",
       "        </tr>\n",
       "        <tr>\n",
       "            <td>HANAR</td>\n",
       "            <td>10253</td>\n",
       "            <td>1996-07-10 00:00:00</td>\n",
       "            <td>Hanari Carnes</td>\n",
       "        </tr>\n",
       "        <tr>\n",
       "            <td>CHOPS</td>\n",
       "            <td>10254</td>\n",
       "            <td>1996-07-11 00:00:00</td>\n",
       "            <td>Chop-suey Chinese</td>\n",
       "        </tr>\n",
       "        <tr>\n",
       "            <td>RICSU</td>\n",
       "            <td>10255</td>\n",
       "            <td>1996-07-12 00:00:00</td>\n",
       "            <td>Richter Supermarkt</td>\n",
       "        </tr>\n",
       "        <tr>\n",
       "            <td>WELLI</td>\n",
       "            <td>10256</td>\n",
       "            <td>1996-07-15 00:00:00</td>\n",
       "            <td>Wellington Importadora</td>\n",
       "        </tr>\n",
       "        <tr>\n",
       "            <td>HILAA</td>\n",
       "            <td>10257</td>\n",
       "            <td>1996-07-16 00:00:00</td>\n",
       "            <td>HILARION-Abastos</td>\n",
       "        </tr>\n",
       "    </tbody>\n",
       "</table>\n",
       "<span style=\"font-style:italic;text-align:center;\">Truncated to <a href=\"https://jupysql.ploomber.io/en/latest/api/configuration.html#displaylimit\">displaylimit</a> of 10.</span>"
      ],
      "text/plain": [
       "+------------+---------+---------------------+---------------------------+\n",
       "| CustomerID | OrderID |      OrderDate      |        CompanyName        |\n",
       "+------------+---------+---------------------+---------------------------+\n",
       "|   VINET    |  10248  | 1996-07-04 00:00:00 | Vins et alcools Chevalier |\n",
       "|   TOMSP    |  10249  | 1996-07-05 00:00:00 |     Toms Spezialitten     |\n",
       "|   HANAR    |  10250  | 1996-07-08 00:00:00 |       Hanari Carnes       |\n",
       "|   VICTE    |  10251  | 1996-07-08 00:00:00 |    Victuailles en stock   |\n",
       "|   SUPRD    |  10252  | 1996-07-09 00:00:00 |       Suprmes dlices      |\n",
       "|   HANAR    |  10253  | 1996-07-10 00:00:00 |       Hanari Carnes       |\n",
       "|   CHOPS    |  10254  | 1996-07-11 00:00:00 |     Chop-suey Chinese     |\n",
       "|   RICSU    |  10255  | 1996-07-12 00:00:00 |     Richter Supermarkt    |\n",
       "|   WELLI    |  10256  | 1996-07-15 00:00:00 |   Wellington Importadora  |\n",
       "|   HILAA    |  10257  | 1996-07-16 00:00:00 |      HILARION-Abastos     |\n",
       "+------------+---------+---------------------+---------------------------+\n",
       "Truncated to displaylimit of 10."
      ]
     },
     "execution_count": 16,
     "metadata": {},
     "output_type": "execute_result"
    }
   ],
   "source": [
    "%%sql \n",
    "SELECT * FROM CustomerOrderView;"
   ]
  },
  {
   "attachments": {},
   "cell_type": "markdown",
   "id": "f0fade51",
   "metadata": {},
   "source": [
    "### Exercise 3\n",
    "\n",
    "Write a SQL statement to update the `CustomerOrderView` view to separate the `OrderDate` column into two different date and time columns named `OrderDateOnly` and `OrderTimeOnly` respectively."
   ]
  },
  {
   "cell_type": "code",
   "execution_count": 32,
   "id": "748f4263",
   "metadata": {},
   "outputs": [
    {
     "data": {
      "text/html": [
       "<span style=\"None\">Running query in &#x27;sqlite:///Northwind.db&#x27;</span>"
      ],
      "text/plain": [
       "Running query in 'sqlite:///Northwind.db'"
      ]
     },
     "metadata": {},
     "output_type": "display_data"
    },
    {
     "data": {
      "text/html": [
       "<table>\n",
       "    <thead>\n",
       "        <tr>\n",
       "        </tr>\n",
       "    </thead>\n",
       "    <tbody>\n",
       "    </tbody>\n",
       "</table>"
      ],
      "text/plain": [
       "++\n",
       "||\n",
       "++\n",
       "++"
      ]
     },
     "execution_count": 32,
     "metadata": {},
     "output_type": "execute_result"
    }
   ],
   "source": [
    "%%sql \n",
    "DROP VIEW IF EXISTS CustomerOrderView;\n",
    "    \n",
    "CREATE VIEW CustomerOrderView AS   \n",
    "SELECT \n",
    "    o.CustomerID, \n",
    "    o.OrderID, \n",
    "    DATE(o.OrderDate) AS OrderDateOnly, \n",
    "    TIME(o.OrderDate) AS OrderTimeOnly, \n",
    "    c.CompanyName \n",
    "FROM Orders AS o \n",
    "INNER JOIN Customers AS c ON c.CustomerID = o.CustomerID;\n"
   ]
  },
  {
   "cell_type": "markdown",
   "id": "09ed2194",
   "metadata": {},
   "source": [
    "### Exercise 4\n",
    "\n",
    "\n",
    "Write a SQL query to retrieve all the data from the updated `CustomerOrderView` view."
   ]
  },
  {
   "cell_type": "code",
   "execution_count": 33,
   "id": "6dd4d66b",
   "metadata": {},
   "outputs": [
    {
     "data": {
      "text/html": [
       "<span style=\"None\">Running query in &#x27;sqlite:///Northwind.db&#x27;</span>"
      ],
      "text/plain": [
       "Running query in 'sqlite:///Northwind.db'"
      ]
     },
     "metadata": {},
     "output_type": "display_data"
    },
    {
     "data": {
      "text/html": [
       "<table>\n",
       "    <thead>\n",
       "        <tr>\n",
       "            <th>CustomerID</th>\n",
       "            <th>OrderID</th>\n",
       "            <th>OrderDateOnly</th>\n",
       "            <th>OrderTimeOnly</th>\n",
       "            <th>CompanyName</th>\n",
       "        </tr>\n",
       "    </thead>\n",
       "    <tbody>\n",
       "        <tr>\n",
       "            <td>VINET</td>\n",
       "            <td>10248</td>\n",
       "            <td>1996-07-04</td>\n",
       "            <td>00:00:00</td>\n",
       "            <td>Vins et alcools Chevalier</td>\n",
       "        </tr>\n",
       "        <tr>\n",
       "            <td>TOMSP</td>\n",
       "            <td>10249</td>\n",
       "            <td>1996-07-05</td>\n",
       "            <td>00:00:00</td>\n",
       "            <td>Toms Spezialitten</td>\n",
       "        </tr>\n",
       "        <tr>\n",
       "            <td>HANAR</td>\n",
       "            <td>10250</td>\n",
       "            <td>1996-07-08</td>\n",
       "            <td>00:00:00</td>\n",
       "            <td>Hanari Carnes</td>\n",
       "        </tr>\n",
       "        <tr>\n",
       "            <td>VICTE</td>\n",
       "            <td>10251</td>\n",
       "            <td>1996-07-08</td>\n",
       "            <td>00:00:00</td>\n",
       "            <td>Victuailles en stock</td>\n",
       "        </tr>\n",
       "        <tr>\n",
       "            <td>SUPRD</td>\n",
       "            <td>10252</td>\n",
       "            <td>1996-07-09</td>\n",
       "            <td>00:00:00</td>\n",
       "            <td>Suprmes dlices</td>\n",
       "        </tr>\n",
       "        <tr>\n",
       "            <td>HANAR</td>\n",
       "            <td>10253</td>\n",
       "            <td>1996-07-10</td>\n",
       "            <td>00:00:00</td>\n",
       "            <td>Hanari Carnes</td>\n",
       "        </tr>\n",
       "        <tr>\n",
       "            <td>CHOPS</td>\n",
       "            <td>10254</td>\n",
       "            <td>1996-07-11</td>\n",
       "            <td>00:00:00</td>\n",
       "            <td>Chop-suey Chinese</td>\n",
       "        </tr>\n",
       "        <tr>\n",
       "            <td>RICSU</td>\n",
       "            <td>10255</td>\n",
       "            <td>1996-07-12</td>\n",
       "            <td>00:00:00</td>\n",
       "            <td>Richter Supermarkt</td>\n",
       "        </tr>\n",
       "        <tr>\n",
       "            <td>WELLI</td>\n",
       "            <td>10256</td>\n",
       "            <td>1996-07-15</td>\n",
       "            <td>00:00:00</td>\n",
       "            <td>Wellington Importadora</td>\n",
       "        </tr>\n",
       "        <tr>\n",
       "            <td>HILAA</td>\n",
       "            <td>10257</td>\n",
       "            <td>1996-07-16</td>\n",
       "            <td>00:00:00</td>\n",
       "            <td>HILARION-Abastos</td>\n",
       "        </tr>\n",
       "    </tbody>\n",
       "</table>\n",
       "<span style=\"font-style:italic;text-align:center;\">Truncated to <a href=\"https://jupysql.ploomber.io/en/latest/api/configuration.html#displaylimit\">displaylimit</a> of 10.</span>"
      ],
      "text/plain": [
       "+------------+---------+---------------+---------------+---------------------------+\n",
       "| CustomerID | OrderID | OrderDateOnly | OrderTimeOnly |        CompanyName        |\n",
       "+------------+---------+---------------+---------------+---------------------------+\n",
       "|   VINET    |  10248  |   1996-07-04  |    00:00:00   | Vins et alcools Chevalier |\n",
       "|   TOMSP    |  10249  |   1996-07-05  |    00:00:00   |     Toms Spezialitten     |\n",
       "|   HANAR    |  10250  |   1996-07-08  |    00:00:00   |       Hanari Carnes       |\n",
       "|   VICTE    |  10251  |   1996-07-08  |    00:00:00   |    Victuailles en stock   |\n",
       "|   SUPRD    |  10252  |   1996-07-09  |    00:00:00   |       Suprmes dlices      |\n",
       "|   HANAR    |  10253  |   1996-07-10  |    00:00:00   |       Hanari Carnes       |\n",
       "|   CHOPS    |  10254  |   1996-07-11  |    00:00:00   |     Chop-suey Chinese     |\n",
       "|   RICSU    |  10255  |   1996-07-12  |    00:00:00   |     Richter Supermarkt    |\n",
       "|   WELLI    |  10256  |   1996-07-15  |    00:00:00   |   Wellington Importadora  |\n",
       "|   HILAA    |  10257  |   1996-07-16  |    00:00:00   |      HILARION-Abastos     |\n",
       "+------------+---------+---------------+---------------+---------------------------+\n",
       "Truncated to displaylimit of 10."
      ]
     },
     "execution_count": 33,
     "metadata": {},
     "output_type": "execute_result"
    }
   ],
   "source": [
    "%%sql\n",
    "SELECT * FROM CustomerOrderView ;  "
   ]
  },
  {
   "cell_type": "markdown",
   "id": "b3c88335",
   "metadata": {},
   "source": [
    "## Solutions"
   ]
  },
  {
   "cell_type": "markdown",
   "id": "a5084b12",
   "metadata": {},
   "source": [
    "### Exercise 1"
   ]
  },
  {
   "cell_type": "code",
   "execution_count": null,
   "id": "c968d875",
   "metadata": {
    "scrolled": true
   },
   "outputs": [],
   "source": [
    "%%sql\n",
    "\n",
    "CREATE VIEW CustomerOrderView AS\n",
    "SELECT o.CustomerID, o.OrderID, o.OrderDate, c.CompanyName\n",
    "FROM Orders o\n",
    "INNER JOIN Customers c ON o.CustomerID = c.CustomerID;"
   ]
  },
  {
   "cell_type": "markdown",
   "id": "294d8eef",
   "metadata": {},
   "source": [
    "### Exercise 2"
   ]
  },
  {
   "cell_type": "code",
   "execution_count": null,
   "id": "03071e34",
   "metadata": {},
   "outputs": [],
   "source": [
    "%%sql\n",
    "\n",
    "SELECT * \n",
    "FROM CustomerOrderView;"
   ]
  },
  {
   "cell_type": "markdown",
   "id": "eafe40b6",
   "metadata": {},
   "source": [
    "### Exercise 3"
   ]
  },
  {
   "cell_type": "code",
   "execution_count": 24,
   "id": "1ffd2239",
   "metadata": {},
   "outputs": [
    {
     "data": {
      "text/html": [
       "<span style=\"None\">Running query in &#x27;sqlite:///Northwind.db&#x27;</span>"
      ],
      "text/plain": [
       "Running query in 'sqlite:///Northwind.db'"
      ]
     },
     "metadata": {},
     "output_type": "display_data"
    },
    {
     "data": {
      "text/html": [
       "<table>\n",
       "    <thead>\n",
       "        <tr>\n",
       "        </tr>\n",
       "    </thead>\n",
       "    <tbody>\n",
       "    </tbody>\n",
       "</table>"
      ],
      "text/plain": [
       "++\n",
       "||\n",
       "++\n",
       "++"
      ]
     },
     "execution_count": 24,
     "metadata": {},
     "output_type": "execute_result"
    }
   ],
   "source": [
    "%%sql\n",
    "\n",
    "DROP VIEW IF EXISTS CustomerOrderView;\n",
    "\n",
    "CREATE VIEW CustomerOrderView AS\n",
    "SELECT o.CustomerID, o.OrderID, DATE(o.OrderDate) AS OrderDateOnly, TIME(o.OrderDate) AS OrderTimeOnly, c.CompanyName\n",
    "FROM Orders o\n",
    "INNER JOIN Customers c ON o.CustomerID = c.CustomerID;"
   ]
  },
  {
   "attachments": {},
   "cell_type": "markdown",
   "id": "d9a066f9",
   "metadata": {},
   "source": [
    "This query updates the `CustomerOrderView` view to show `OrderDateOnly` and `OrderTimeOnly`. \n",
    "\n",
    "Note that in SQLite, we can't modify an existing view with an `ALTER VIEW` statement. Instead, we have to drop the existing view and create it again in order to update it."
   ]
  },
  {
   "cell_type": "markdown",
   "id": "a8bc7287",
   "metadata": {},
   "source": [
    "### Exercise 4"
   ]
  },
  {
   "cell_type": "code",
   "execution_count": 25,
   "id": "8442a10b",
   "metadata": {},
   "outputs": [
    {
     "data": {
      "text/html": [
       "<span style=\"None\">Running query in &#x27;sqlite:///Northwind.db&#x27;</span>"
      ],
      "text/plain": [
       "Running query in 'sqlite:///Northwind.db'"
      ]
     },
     "metadata": {},
     "output_type": "display_data"
    },
    {
     "data": {
      "text/html": [
       "<table>\n",
       "    <thead>\n",
       "        <tr>\n",
       "            <th>CustomerID</th>\n",
       "            <th>OrderID</th>\n",
       "            <th>OrderDateOnly</th>\n",
       "            <th>OrderTimeOnly</th>\n",
       "            <th>CompanyName</th>\n",
       "        </tr>\n",
       "    </thead>\n",
       "    <tbody>\n",
       "        <tr>\n",
       "            <td>VINET</td>\n",
       "            <td>10248</td>\n",
       "            <td>1996-07-04</td>\n",
       "            <td>00:00:00</td>\n",
       "            <td>Vins et alcools Chevalier</td>\n",
       "        </tr>\n",
       "        <tr>\n",
       "            <td>TOMSP</td>\n",
       "            <td>10249</td>\n",
       "            <td>1996-07-05</td>\n",
       "            <td>00:00:00</td>\n",
       "            <td>Toms Spezialitten</td>\n",
       "        </tr>\n",
       "        <tr>\n",
       "            <td>HANAR</td>\n",
       "            <td>10250</td>\n",
       "            <td>1996-07-08</td>\n",
       "            <td>00:00:00</td>\n",
       "            <td>Hanari Carnes</td>\n",
       "        </tr>\n",
       "        <tr>\n",
       "            <td>VICTE</td>\n",
       "            <td>10251</td>\n",
       "            <td>1996-07-08</td>\n",
       "            <td>00:00:00</td>\n",
       "            <td>Victuailles en stock</td>\n",
       "        </tr>\n",
       "        <tr>\n",
       "            <td>SUPRD</td>\n",
       "            <td>10252</td>\n",
       "            <td>1996-07-09</td>\n",
       "            <td>00:00:00</td>\n",
       "            <td>Suprmes dlices</td>\n",
       "        </tr>\n",
       "        <tr>\n",
       "            <td>HANAR</td>\n",
       "            <td>10253</td>\n",
       "            <td>1996-07-10</td>\n",
       "            <td>00:00:00</td>\n",
       "            <td>Hanari Carnes</td>\n",
       "        </tr>\n",
       "        <tr>\n",
       "            <td>CHOPS</td>\n",
       "            <td>10254</td>\n",
       "            <td>1996-07-11</td>\n",
       "            <td>00:00:00</td>\n",
       "            <td>Chop-suey Chinese</td>\n",
       "        </tr>\n",
       "        <tr>\n",
       "            <td>RICSU</td>\n",
       "            <td>10255</td>\n",
       "            <td>1996-07-12</td>\n",
       "            <td>00:00:00</td>\n",
       "            <td>Richter Supermarkt</td>\n",
       "        </tr>\n",
       "        <tr>\n",
       "            <td>WELLI</td>\n",
       "            <td>10256</td>\n",
       "            <td>1996-07-15</td>\n",
       "            <td>00:00:00</td>\n",
       "            <td>Wellington Importadora</td>\n",
       "        </tr>\n",
       "        <tr>\n",
       "            <td>HILAA</td>\n",
       "            <td>10257</td>\n",
       "            <td>1996-07-16</td>\n",
       "            <td>00:00:00</td>\n",
       "            <td>HILARION-Abastos</td>\n",
       "        </tr>\n",
       "    </tbody>\n",
       "</table>\n",
       "<span style=\"font-style:italic;text-align:center;\">Truncated to <a href=\"https://jupysql.ploomber.io/en/latest/api/configuration.html#displaylimit\">displaylimit</a> of 10.</span>"
      ],
      "text/plain": [
       "+------------+---------+---------------+---------------+---------------------------+\n",
       "| CustomerID | OrderID | OrderDateOnly | OrderTimeOnly |        CompanyName        |\n",
       "+------------+---------+---------------+---------------+---------------------------+\n",
       "|   VINET    |  10248  |   1996-07-04  |    00:00:00   | Vins et alcools Chevalier |\n",
       "|   TOMSP    |  10249  |   1996-07-05  |    00:00:00   |     Toms Spezialitten     |\n",
       "|   HANAR    |  10250  |   1996-07-08  |    00:00:00   |       Hanari Carnes       |\n",
       "|   VICTE    |  10251  |   1996-07-08  |    00:00:00   |    Victuailles en stock   |\n",
       "|   SUPRD    |  10252  |   1996-07-09  |    00:00:00   |       Suprmes dlices      |\n",
       "|   HANAR    |  10253  |   1996-07-10  |    00:00:00   |       Hanari Carnes       |\n",
       "|   CHOPS    |  10254  |   1996-07-11  |    00:00:00   |     Chop-suey Chinese     |\n",
       "|   RICSU    |  10255  |   1996-07-12  |    00:00:00   |     Richter Supermarkt    |\n",
       "|   WELLI    |  10256  |   1996-07-15  |    00:00:00   |   Wellington Importadora  |\n",
       "|   HILAA    |  10257  |   1996-07-16  |    00:00:00   |      HILARION-Abastos     |\n",
       "+------------+---------+---------------+---------------+---------------------------+\n",
       "Truncated to displaylimit of 10."
      ]
     },
     "execution_count": 25,
     "metadata": {},
     "output_type": "execute_result"
    }
   ],
   "source": [
    "%%sql\n",
    "\n",
    "SELECT * \n",
    "FROM CustomerOrderView;"
   ]
  },
  {
   "cell_type": "markdown",
   "id": "6d8d9bdd",
   "metadata": {},
   "source": [
    "#\n",
    "\n",
    "<div align=\"center\" style=\" font-size: 80%; text-align: center; margin: 0 auto\">\n",
    "<img src=\"https://raw.githubusercontent.com/Explore-AI/Pictures/refs/heads/master/ALX_banners/ALX_Navy.png\"  style=\"width:100px\"  ;/>\n",
    "</div>"
   ]
  }
 ],
 "metadata": {
  "kernelspec": {
   "display_name": "Python 3 (ipykernel)",
   "language": "python",
   "name": "python3"
  },
  "language_info": {
   "codemirror_mode": {
    "name": "ipython",
    "version": 3
   },
   "file_extension": ".py",
   "mimetype": "text/x-python",
   "name": "python",
   "nbconvert_exporter": "python",
   "pygments_lexer": "ipython3",
   "version": "3.13.2"
  }
 },
 "nbformat": 4,
 "nbformat_minor": 5
}
