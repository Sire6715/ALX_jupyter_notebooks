{
 "cells": [
  {
   "attachments": {},
   "cell_type": "markdown",
   "id": "51b1254d",
   "metadata": {},
   "source": [
    "<div align=\"right\" style=\" font-size: 80%; text-align: center; margin: 0 auto\">\n",
    "<img\n",
    " src=\"https://raw.githubusercontent.com/Explore-AI/Pictures/master/alx-courses/aice/assets/Content_page_banner_blue_dots.png\"\n",
    " alt=\"ALX Content Header\"\n",
    " class=\"full-width-image\"\n",
    "/>\n",
    "</div>"
   ]
  },
  {
   "attachments": {},
   "cell_type": "markdown",
   "id": "f662d169",
   "metadata": {},
   "source": [
    "# Querying in notebooks\n",
    "© ExploreAI Academy"
   ]
  },
  {
   "attachments": {},
   "cell_type": "markdown",
   "id": "26af890c",
   "metadata": {},
   "source": [
    "In this exercise, we will query a sample SQLite database file for a retail company called Northwind to gain some insight into their data. Ensure that you have downloaded the database file Northwind.db."
   ]
  },
  {
   "attachments": {},
   "cell_type": "markdown",
   "id": "2d230d14",
   "metadata": {},
   "source": [
    "## Learning objectives\n",
    "\n",
    "By the end of this train, you should:\n",
    "- Use basic SELECT statements to retrieve specific data from a database.\n",
    "- Use the WHERE clause to filter data based on certain conditions.\n",
    "- Combine multiple conditions using logical operators such as AND and OR.\n",
    "- Use different logical operators to get or exclude specific values in a table, including the use of IN for multiple values."
   ]
  },
  {
   "attachments": {},
   "cell_type": "markdown",
   "id": "7fd5e3b8",
   "metadata": {},
   "source": [
    "First, let's load our sample database:"
   ]
  },
  {
   "cell_type": "code",
   "execution_count": 1,
   "id": "2d0d820e",
   "metadata": {},
   "outputs": [],
   "source": [
    "# Load and activate the SQL extension to allow us to execute SQL in a Jupyter notebook.\n",
    "%load_ext sql\n"
   ]
  },
  {
   "cell_type": "code",
   "execution_count": 2,
   "id": "599e3c6c",
   "metadata": {},
   "outputs": [
    {
     "data": {
      "text/html": [
       "<span style=\"None\">Connecting to &#x27;sqlite:///Northwind.db&#x27;</span>"
      ],
      "text/plain": [
       "Connecting to 'sqlite:///Northwind.db'"
      ]
     },
     "metadata": {},
     "output_type": "display_data"
    }
   ],
   "source": [
    "# Load the Northwind database stored in your local machine. \n",
    "# Make sure the file is saved in the same folder as this notebook.\n",
    "%sql sqlite:///Northwind.db\n",
    "    "
   ]
  },
  {
   "attachments": {},
   "cell_type": "markdown",
   "id": "06af8b46",
   "metadata": {},
   "source": [
    "Here is a view of all of our tables in the database:"
   ]
  },
  {
   "attachments": {},
   "cell_type": "markdown",
   "id": "69217e12",
   "metadata": {},
   "source": [
    "<div align=\"center\" style=\" font-size: 80%; text-align: center; margin: 0 auto\">\n",
    "<img src=\"https://raw.githubusercontent.com/Explore-AI/Pictures/master/Northwind_ERD.png\"  style=\"width:500px\";/>\n",
    "<br>\n",
    "<br>\n",
    "    <em>Figure 1: Northwind ERD</em>\n",
    "</div>"
   ]
  },
  {
   "attachments": {},
   "cell_type": "markdown",
   "id": "920e89d2",
   "metadata": {},
   "source": [
    "## Exercise\n",
    "\n",
    "Run the necessary queries that will provide us with the following information. Compare your queries with the solutions at the end of this notebook."
   ]
  },
  {
   "attachments": {},
   "cell_type": "markdown",
   "id": "466e53c1",
   "metadata": {},
   "source": [
    "### Exercise 1\n",
    "\n",
    "Find the names of all customers from Germany in the Northwind database."
   ]
  },
  {
   "cell_type": "code",
   "execution_count": 4,
   "id": "038f28ea",
   "metadata": {},
   "outputs": [
    {
     "data": {
      "text/html": [
       "<span style=\"None\">Running query in &#x27;sqlite:///Northwind.db&#x27;</span>"
      ],
      "text/plain": [
       "Running query in 'sqlite:///Northwind.db'"
      ]
     },
     "metadata": {},
     "output_type": "display_data"
    },
    {
     "data": {
      "text/html": [
       "<table>\n",
       "    <thead>\n",
       "        <tr>\n",
       "            <th>ContactName</th>\n",
       "        </tr>\n",
       "    </thead>\n",
       "    <tbody>\n",
       "        <tr>\n",
       "            <td>Maria Anders</td>\n",
       "        </tr>\n",
       "        <tr>\n",
       "            <td>Ana Trujillo</td>\n",
       "        </tr>\n",
       "        <tr>\n",
       "            <td>Antonio Moreno</td>\n",
       "        </tr>\n",
       "        <tr>\n",
       "            <td>Thomas Hardy</td>\n",
       "        </tr>\n",
       "        <tr>\n",
       "            <td>Christina Berglund</td>\n",
       "        </tr>\n",
       "        <tr>\n",
       "            <td>Hanna Moos</td>\n",
       "        </tr>\n",
       "        <tr>\n",
       "            <td>Frdrique Citeaux</td>\n",
       "        </tr>\n",
       "        <tr>\n",
       "            <td>Martn Sommer</td>\n",
       "        </tr>\n",
       "        <tr>\n",
       "            <td>Laurence Lebihan</td>\n",
       "        </tr>\n",
       "        <tr>\n",
       "            <td>Elizabeth Lincoln</td>\n",
       "        </tr>\n",
       "    </tbody>\n",
       "</table>\n",
       "<span style=\"font-style:italic;text-align:center;\">Truncated to <a href=\"https://jupysql.ploomber.io/en/latest/api/configuration.html#displaylimit\">displaylimit</a> of 10.</span>"
      ],
      "text/plain": [
       "+--------------------+\n",
       "|    ContactName     |\n",
       "+--------------------+\n",
       "|    Maria Anders    |\n",
       "|    Ana Trujillo    |\n",
       "|   Antonio Moreno   |\n",
       "|    Thomas Hardy    |\n",
       "| Christina Berglund |\n",
       "|     Hanna Moos     |\n",
       "|  Frdrique Citeaux  |\n",
       "|    Martn Sommer    |\n",
       "|  Laurence Lebihan  |\n",
       "| Elizabeth Lincoln  |\n",
       "+--------------------+\n",
       "Truncated to displaylimit of 10."
      ]
     },
     "execution_count": 4,
     "metadata": {},
     "output_type": "execute_result"
    }
   ],
   "source": [
    "%%sql\n",
    "    SELECT \n",
    "    ContactName \n",
    "    FROM \n",
    "    Customers;"
   ]
  },
  {
   "attachments": {},
   "cell_type": "markdown",
   "id": "86802726",
   "metadata": {},
   "source": [
    "### Exercise 2\n",
    "\n",
    "\n",
    "Find all products in the Northwind database that have a unit price greater than 30 and are discontinued. \n",
    "\n",
    "Note: The product has been discontinued when the column `Discontinued` is equal to  1."
   ]
  },
  {
   "cell_type": "code",
   "execution_count": 6,
   "id": "91f3421f",
   "metadata": {},
   "outputs": [
    {
     "data": {
      "text/html": [
       "<span style=\"None\">Running query in &#x27;sqlite:///Northwind.db&#x27;</span>"
      ],
      "text/plain": [
       "Running query in 'sqlite:///Northwind.db'"
      ]
     },
     "metadata": {},
     "output_type": "display_data"
    },
    {
     "data": {
      "text/html": [
       "<table>\n",
       "    <thead>\n",
       "        <tr>\n",
       "            <th>ProductID</th>\n",
       "            <th>ProductName</th>\n",
       "            <th>SupplierID</th>\n",
       "            <th>CategoryID</th>\n",
       "            <th>QuantityPerUnit</th>\n",
       "            <th>UnitPrice</th>\n",
       "            <th>UnitsInStock</th>\n",
       "            <th>UnitsOnOrder</th>\n",
       "            <th>ReorderLevel</th>\n",
       "            <th>Discontinued</th>\n",
       "        </tr>\n",
       "    </thead>\n",
       "    <tbody>\n",
       "        <tr>\n",
       "            <td>5</td>\n",
       "            <td>Chef Anton's Gumbo Mix</td>\n",
       "            <td>2</td>\n",
       "            <td>2</td>\n",
       "            <td>36 boxes</td>\n",
       "            <td>21.35</td>\n",
       "            <td>0</td>\n",
       "            <td>0</td>\n",
       "            <td>0</td>\n",
       "            <td>1</td>\n",
       "        </tr>\n",
       "        <tr>\n",
       "            <td>9</td>\n",
       "            <td>Mishi Kobe Niku</td>\n",
       "            <td>4</td>\n",
       "            <td>6</td>\n",
       "            <td>18 - 500 g pkgs.</td>\n",
       "            <td>97</td>\n",
       "            <td>29</td>\n",
       "            <td>0</td>\n",
       "            <td>0</td>\n",
       "            <td>1</td>\n",
       "        </tr>\n",
       "        <tr>\n",
       "            <td>17</td>\n",
       "            <td>Alice Mutton</td>\n",
       "            <td>7</td>\n",
       "            <td>6</td>\n",
       "            <td>20 - 1 kg tins</td>\n",
       "            <td>39</td>\n",
       "            <td>0</td>\n",
       "            <td>0</td>\n",
       "            <td>0</td>\n",
       "            <td>1</td>\n",
       "        </tr>\n",
       "        <tr>\n",
       "            <td>24</td>\n",
       "            <td>Guaran Fantstica</td>\n",
       "            <td>10</td>\n",
       "            <td>1</td>\n",
       "            <td>12 - 355 ml cans</td>\n",
       "            <td>4.5</td>\n",
       "            <td>20</td>\n",
       "            <td>0</td>\n",
       "            <td>0</td>\n",
       "            <td>1</td>\n",
       "        </tr>\n",
       "        <tr>\n",
       "            <td>28</td>\n",
       "            <td>Rssle Sauerkraut</td>\n",
       "            <td>12</td>\n",
       "            <td>7</td>\n",
       "            <td>25 - 825 g cans</td>\n",
       "            <td>45.6</td>\n",
       "            <td>26</td>\n",
       "            <td>0</td>\n",
       "            <td>0</td>\n",
       "            <td>1</td>\n",
       "        </tr>\n",
       "        <tr>\n",
       "            <td>29</td>\n",
       "            <td>Thringer Rostbratwurst</td>\n",
       "            <td>12</td>\n",
       "            <td>6</td>\n",
       "            <td>50 bags x 30 sausgs.</td>\n",
       "            <td>123.79</td>\n",
       "            <td>0</td>\n",
       "            <td>0</td>\n",
       "            <td>0</td>\n",
       "            <td>1</td>\n",
       "        </tr>\n",
       "        <tr>\n",
       "            <td>42</td>\n",
       "            <td>Singaporean Hokkien Fried Mee</td>\n",
       "            <td>20</td>\n",
       "            <td>5</td>\n",
       "            <td>32 - 1 kg pkgs.</td>\n",
       "            <td>14</td>\n",
       "            <td>26</td>\n",
       "            <td>0</td>\n",
       "            <td>0</td>\n",
       "            <td>1</td>\n",
       "        </tr>\n",
       "        <tr>\n",
       "            <td>53</td>\n",
       "            <td>Perth Pasties</td>\n",
       "            <td>24</td>\n",
       "            <td>6</td>\n",
       "            <td>48 pieces</td>\n",
       "            <td>32.8</td>\n",
       "            <td>0</td>\n",
       "            <td>0</td>\n",
       "            <td>0</td>\n",
       "            <td>1</td>\n",
       "        </tr>\n",
       "    </tbody>\n",
       "</table>"
      ],
      "text/plain": [
       "+-----------+-------------------------------+------------+------------+----------------------+-----------+--------------+--------------+--------------+--------------+\n",
       "| ProductID |          ProductName          | SupplierID | CategoryID |   QuantityPerUnit    | UnitPrice | UnitsInStock | UnitsOnOrder | ReorderLevel | Discontinued |\n",
       "+-----------+-------------------------------+------------+------------+----------------------+-----------+--------------+--------------+--------------+--------------+\n",
       "|     5     |     Chef Anton's Gumbo Mix    |     2      |     2      |       36 boxes       |   21.35   |      0       |      0       |      0       |      1       |\n",
       "|     9     |        Mishi Kobe Niku        |     4      |     6      |   18 - 500 g pkgs.   |     97    |      29      |      0       |      0       |      1       |\n",
       "|     17    |          Alice Mutton         |     7      |     6      |    20 - 1 kg tins    |     39    |      0       |      0       |      0       |      1       |\n",
       "|     24    |        Guaran Fantstica       |     10     |     1      |   12 - 355 ml cans   |    4.5    |      20      |      0       |      0       |      1       |\n",
       "|     28    |        Rssle Sauerkraut       |     12     |     7      |   25 - 825 g cans    |    45.6   |      26      |      0       |      0       |      1       |\n",
       "|     29    |     Thringer Rostbratwurst    |     12     |     6      | 50 bags x 30 sausgs. |   123.79  |      0       |      0       |      0       |      1       |\n",
       "|     42    | Singaporean Hokkien Fried Mee |     20     |     5      |   32 - 1 kg pkgs.    |     14    |      26      |      0       |      0       |      1       |\n",
       "|     53    |         Perth Pasties         |     24     |     6      |      48 pieces       |    32.8   |      0       |      0       |      0       |      1       |\n",
       "+-----------+-------------------------------+------------+------------+----------------------+-----------+--------------+--------------+--------------+--------------+"
      ]
     },
     "execution_count": 6,
     "metadata": {},
     "output_type": "execute_result"
    }
   ],
   "source": [
    "%%sql\n",
    "    SELECT\n",
    "    * \n",
    "    FROM \n",
    "    Products \n",
    "    WHERE \n",
    "    Products.Discontinued = 1;"
   ]
  },
  {
   "attachments": {},
   "cell_type": "markdown",
   "id": "f0fade51",
   "metadata": {},
   "source": [
    "### Exercise 3\n",
    "\n",
    "\n",
    "Find the contact names and phone numbers of customers from either 'USA' or 'Canada'."
   ]
  },
  {
   "cell_type": "code",
   "execution_count": 11,
   "id": "748f4263",
   "metadata": {},
   "outputs": [
    {
     "data": {
      "text/html": [
       "<span style=\"None\">Running query in &#x27;sqlite:///Northwind.db&#x27;</span>"
      ],
      "text/plain": [
       "Running query in 'sqlite:///Northwind.db'"
      ]
     },
     "metadata": {},
     "output_type": "display_data"
    },
    {
     "data": {
      "text/html": [
       "<table>\n",
       "    <thead>\n",
       "        <tr>\n",
       "            <th>ContactName</th>\n",
       "            <th>Phone</th>\n",
       "        </tr>\n",
       "    </thead>\n",
       "    <tbody>\n",
       "        <tr>\n",
       "            <td>Elizabeth Lincoln</td>\n",
       "            <td>(604) 555-4729</td>\n",
       "        </tr>\n",
       "        <tr>\n",
       "            <td>Howard Snyder</td>\n",
       "            <td>(503) 555-7555</td>\n",
       "        </tr>\n",
       "        <tr>\n",
       "            <td>Yoshi Latimer</td>\n",
       "            <td>(503) 555-6874</td>\n",
       "        </tr>\n",
       "        <tr>\n",
       "            <td>Yoshi Tannamuri</td>\n",
       "            <td>(604) 555-3392</td>\n",
       "        </tr>\n",
       "        <tr>\n",
       "            <td>John Steel</td>\n",
       "            <td>(509) 555-7969</td>\n",
       "        </tr>\n",
       "        <tr>\n",
       "            <td>Jaime Yorres</td>\n",
       "            <td>(415) 555-5938</td>\n",
       "        </tr>\n",
       "        <tr>\n",
       "            <td>Fran Wilson</td>\n",
       "            <td>(503) 555-9573</td>\n",
       "        </tr>\n",
       "        <tr>\n",
       "            <td>Jean Fresnire</td>\n",
       "            <td>(514) 555-8054</td>\n",
       "        </tr>\n",
       "        <tr>\n",
       "            <td>Rene Phillips</td>\n",
       "            <td>(907) 555-7584</td>\n",
       "        </tr>\n",
       "        <tr>\n",
       "            <td>Paula Wilson</td>\n",
       "            <td>(505) 555-5939</td>\n",
       "        </tr>\n",
       "    </tbody>\n",
       "</table>\n",
       "<span style=\"font-style:italic;text-align:center;\">Truncated to <a href=\"https://jupysql.ploomber.io/en/latest/api/configuration.html#displaylimit\">displaylimit</a> of 10.</span>"
      ],
      "text/plain": [
       "+-------------------+----------------+\n",
       "|    ContactName    |     Phone      |\n",
       "+-------------------+----------------+\n",
       "| Elizabeth Lincoln | (604) 555-4729 |\n",
       "|   Howard Snyder   | (503) 555-7555 |\n",
       "|   Yoshi Latimer   | (503) 555-6874 |\n",
       "|  Yoshi Tannamuri  | (604) 555-3392 |\n",
       "|     John Steel    | (509) 555-7969 |\n",
       "|    Jaime Yorres   | (415) 555-5938 |\n",
       "|    Fran Wilson    | (503) 555-9573 |\n",
       "|   Jean Fresnire   | (514) 555-8054 |\n",
       "|   Rene Phillips   | (907) 555-7584 |\n",
       "|    Paula Wilson   | (505) 555-5939 |\n",
       "+-------------------+----------------+\n",
       "Truncated to displaylimit of 10."
      ]
     },
     "execution_count": 11,
     "metadata": {},
     "output_type": "execute_result"
    }
   ],
   "source": [
    "%%sql \n",
    "    SELECT \n",
    "    ContactName, Phone \n",
    "    FROM \n",
    "    Customers c \n",
    "    WHERE \n",
    "    c.Country = 'USA' \n",
    "    OR \n",
    "    c.Country = 'Canada'"
   ]
  },
  {
   "attachments": {},
   "cell_type": "markdown",
   "id": "f28aef00",
   "metadata": {},
   "source": [
    "### Exercise 4\n",
    "\n",
    "From the 'Orders' table, select all orders that were placed by 'VINET', 'QUICK' or 'SUPRD' and were shipped via shipper 1 or 2.\n"
   ]
  },
  {
   "cell_type": "code",
   "execution_count": 17,
   "id": "f4621a53",
   "metadata": {},
   "outputs": [
    {
     "data": {
      "text/html": [
       "<span style=\"None\">Running query in &#x27;sqlite:///Northwind.db&#x27;</span>"
      ],
      "text/plain": [
       "Running query in 'sqlite:///Northwind.db'"
      ]
     },
     "metadata": {},
     "output_type": "display_data"
    },
    {
     "data": {
      "text/html": [
       "<table>\n",
       "    <thead>\n",
       "        <tr>\n",
       "            <th>OrderID</th>\n",
       "            <th>CustomerID</th>\n",
       "            <th>EmployeeID</th>\n",
       "            <th>OrderDate</th>\n",
       "            <th>RequiredDate</th>\n",
       "            <th>ShippedDate</th>\n",
       "            <th>ShipVia</th>\n",
       "            <th>Freight</th>\n",
       "            <th>ShipName</th>\n",
       "            <th>ShipAddress</th>\n",
       "            <th>ShipCity</th>\n",
       "            <th>ShipRegion</th>\n",
       "            <th>ShipPostalCode</th>\n",
       "            <th>ShipCountry</th>\n",
       "        </tr>\n",
       "    </thead>\n",
       "    <tbody>\n",
       "        <tr>\n",
       "            <td>10252</td>\n",
       "            <td>SUPRD</td>\n",
       "            <td>4</td>\n",
       "            <td>1996-07-09 00:00:00</td>\n",
       "            <td>1996-08-06 00:00:00</td>\n",
       "            <td>1996-07-11 00:00:00</td>\n",
       "            <td>2</td>\n",
       "            <td>51.3</td>\n",
       "            <td>Suprmes dlices</td>\n",
       "            <td>Boulevard Tirou, 255</td>\n",
       "            <td>Charleroi</td>\n",
       "            <td>None</td>\n",
       "            <td>B-6000</td>\n",
       "            <td>Belgium</td>\n",
       "        </tr>\n",
       "        <tr>\n",
       "            <td>10274</td>\n",
       "            <td>VINET</td>\n",
       "            <td>6</td>\n",
       "            <td>1996-08-06 00:00:00</td>\n",
       "            <td>1996-09-03 00:00:00</td>\n",
       "            <td>1996-08-16 00:00:00</td>\n",
       "            <td>1</td>\n",
       "            <td>6.01</td>\n",
       "            <td>Vins et alcools Chevalier</td>\n",
       "            <td>59 rue de l-Abbaye</td>\n",
       "            <td>Reims</td>\n",
       "            <td>None</td>\n",
       "            <td>51100</td>\n",
       "            <td>France</td>\n",
       "        </tr>\n",
       "        <tr>\n",
       "            <td>10285</td>\n",
       "            <td>QUICK</td>\n",
       "            <td>1</td>\n",
       "            <td>1996-08-20 00:00:00</td>\n",
       "            <td>1996-09-17 00:00:00</td>\n",
       "            <td>1996-08-26 00:00:00</td>\n",
       "            <td>2</td>\n",
       "            <td>76.83</td>\n",
       "            <td>QUICK-Stop</td>\n",
       "            <td>Taucherstrae 10</td>\n",
       "            <td>Cunewalde</td>\n",
       "            <td>None</td>\n",
       "            <td>1307</td>\n",
       "            <td>Germany</td>\n",
       "        </tr>\n",
       "        <tr>\n",
       "            <td>10295</td>\n",
       "            <td>VINET</td>\n",
       "            <td>2</td>\n",
       "            <td>1996-09-02 00:00:00</td>\n",
       "            <td>1996-09-30 00:00:00</td>\n",
       "            <td>1996-09-10 00:00:00</td>\n",
       "            <td>2</td>\n",
       "            <td>1.15</td>\n",
       "            <td>Vins et alcools Chevalier</td>\n",
       "            <td>59 rue de l-Abbaye</td>\n",
       "            <td>Reims</td>\n",
       "            <td>None</td>\n",
       "            <td>51100</td>\n",
       "            <td>France</td>\n",
       "        </tr>\n",
       "        <tr>\n",
       "            <td>10302</td>\n",
       "            <td>SUPRD</td>\n",
       "            <td>4</td>\n",
       "            <td>1996-09-10 00:00:00</td>\n",
       "            <td>1996-10-08 00:00:00</td>\n",
       "            <td>1996-10-09 00:00:00</td>\n",
       "            <td>2</td>\n",
       "            <td>6.27</td>\n",
       "            <td>Suprmes dlices</td>\n",
       "            <td>Boulevard Tirou, 255</td>\n",
       "            <td>Charleroi</td>\n",
       "            <td>None</td>\n",
       "            <td>B-6000</td>\n",
       "            <td>Belgium</td>\n",
       "        </tr>\n",
       "        <tr>\n",
       "            <td>10313</td>\n",
       "            <td>QUICK</td>\n",
       "            <td>2</td>\n",
       "            <td>1996-09-24 00:00:00</td>\n",
       "            <td>1996-10-22 00:00:00</td>\n",
       "            <td>1996-10-04 00:00:00</td>\n",
       "            <td>2</td>\n",
       "            <td>1.96</td>\n",
       "            <td>QUICK-Stop</td>\n",
       "            <td>Taucherstrae 10</td>\n",
       "            <td>Cunewalde</td>\n",
       "            <td>None</td>\n",
       "            <td>1307</td>\n",
       "            <td>Germany</td>\n",
       "        </tr>\n",
       "        <tr>\n",
       "            <td>10345</td>\n",
       "            <td>QUICK</td>\n",
       "            <td>2</td>\n",
       "            <td>1996-11-04 00:00:00</td>\n",
       "            <td>1996-12-02 00:00:00</td>\n",
       "            <td>1996-11-11 00:00:00</td>\n",
       "            <td>2</td>\n",
       "            <td>249.06</td>\n",
       "            <td>QUICK-Stop</td>\n",
       "            <td>Taucherstrae 10</td>\n",
       "            <td>Cunewalde</td>\n",
       "            <td>None</td>\n",
       "            <td>1307</td>\n",
       "            <td>Germany</td>\n",
       "        </tr>\n",
       "        <tr>\n",
       "            <td>10361</td>\n",
       "            <td>QUICK</td>\n",
       "            <td>1</td>\n",
       "            <td>1996-11-22 00:00:00</td>\n",
       "            <td>1996-12-20 00:00:00</td>\n",
       "            <td>1996-12-03 00:00:00</td>\n",
       "            <td>2</td>\n",
       "            <td>183.17</td>\n",
       "            <td>QUICK-Stop</td>\n",
       "            <td>Taucherstrae 10</td>\n",
       "            <td>Cunewalde</td>\n",
       "            <td>None</td>\n",
       "            <td>1307</td>\n",
       "            <td>Germany</td>\n",
       "        </tr>\n",
       "        <tr>\n",
       "            <td>10418</td>\n",
       "            <td>QUICK</td>\n",
       "            <td>4</td>\n",
       "            <td>1997-01-17 00:00:00</td>\n",
       "            <td>1997-02-14 00:00:00</td>\n",
       "            <td>1997-01-24 00:00:00</td>\n",
       "            <td>1</td>\n",
       "            <td>17.55</td>\n",
       "            <td>QUICK-Stop</td>\n",
       "            <td>Taucherstrae 10</td>\n",
       "            <td>Cunewalde</td>\n",
       "            <td>None</td>\n",
       "            <td>1307</td>\n",
       "            <td>Germany</td>\n",
       "        </tr>\n",
       "        <tr>\n",
       "            <td>10475</td>\n",
       "            <td>SUPRD</td>\n",
       "            <td>9</td>\n",
       "            <td>1997-03-14 00:00:00</td>\n",
       "            <td>1997-04-11 00:00:00</td>\n",
       "            <td>1997-04-04 00:00:00</td>\n",
       "            <td>1</td>\n",
       "            <td>68.52</td>\n",
       "            <td>Suprmes dlices</td>\n",
       "            <td>Boulevard Tirou, 255</td>\n",
       "            <td>Charleroi</td>\n",
       "            <td>None</td>\n",
       "            <td>B-6000</td>\n",
       "            <td>Belgium</td>\n",
       "        </tr>\n",
       "    </tbody>\n",
       "</table>\n",
       "<span style=\"font-style:italic;text-align:center;\">Truncated to <a href=\"https://jupysql.ploomber.io/en/latest/api/configuration.html#displaylimit\">displaylimit</a> of 10.</span>"
      ],
      "text/plain": [
       "+---------+------------+------------+---------------------+---------------------+---------------------+---------+---------+---------------------------+----------------------+-----------+------------+----------------+-------------+\n",
       "| OrderID | CustomerID | EmployeeID |      OrderDate      |     RequiredDate    |     ShippedDate     | ShipVia | Freight |          ShipName         |     ShipAddress      |  ShipCity | ShipRegion | ShipPostalCode | ShipCountry |\n",
       "+---------+------------+------------+---------------------+---------------------+---------------------+---------+---------+---------------------------+----------------------+-----------+------------+----------------+-------------+\n",
       "|  10252  |   SUPRD    |     4      | 1996-07-09 00:00:00 | 1996-08-06 00:00:00 | 1996-07-11 00:00:00 |    2    |   51.3  |       Suprmes dlices      | Boulevard Tirou, 255 | Charleroi |    None    |     B-6000     |   Belgium   |\n",
       "|  10274  |   VINET    |     6      | 1996-08-06 00:00:00 | 1996-09-03 00:00:00 | 1996-08-16 00:00:00 |    1    |   6.01  | Vins et alcools Chevalier |  59 rue de l-Abbaye  |   Reims   |    None    |     51100      |    France   |\n",
       "|  10285  |   QUICK    |     1      | 1996-08-20 00:00:00 | 1996-09-17 00:00:00 | 1996-08-26 00:00:00 |    2    |  76.83  |         QUICK-Stop        |   Taucherstrae 10    | Cunewalde |    None    |      1307      |   Germany   |\n",
       "|  10295  |   VINET    |     2      | 1996-09-02 00:00:00 | 1996-09-30 00:00:00 | 1996-09-10 00:00:00 |    2    |   1.15  | Vins et alcools Chevalier |  59 rue de l-Abbaye  |   Reims   |    None    |     51100      |    France   |\n",
       "|  10302  |   SUPRD    |     4      | 1996-09-10 00:00:00 | 1996-10-08 00:00:00 | 1996-10-09 00:00:00 |    2    |   6.27  |       Suprmes dlices      | Boulevard Tirou, 255 | Charleroi |    None    |     B-6000     |   Belgium   |\n",
       "|  10313  |   QUICK    |     2      | 1996-09-24 00:00:00 | 1996-10-22 00:00:00 | 1996-10-04 00:00:00 |    2    |   1.96  |         QUICK-Stop        |   Taucherstrae 10    | Cunewalde |    None    |      1307      |   Germany   |\n",
       "|  10345  |   QUICK    |     2      | 1996-11-04 00:00:00 | 1996-12-02 00:00:00 | 1996-11-11 00:00:00 |    2    |  249.06 |         QUICK-Stop        |   Taucherstrae 10    | Cunewalde |    None    |      1307      |   Germany   |\n",
       "|  10361  |   QUICK    |     1      | 1996-11-22 00:00:00 | 1996-12-20 00:00:00 | 1996-12-03 00:00:00 |    2    |  183.17 |         QUICK-Stop        |   Taucherstrae 10    | Cunewalde |    None    |      1307      |   Germany   |\n",
       "|  10418  |   QUICK    |     4      | 1997-01-17 00:00:00 | 1997-02-14 00:00:00 | 1997-01-24 00:00:00 |    1    |  17.55  |         QUICK-Stop        |   Taucherstrae 10    | Cunewalde |    None    |      1307      |   Germany   |\n",
       "|  10475  |   SUPRD    |     9      | 1997-03-14 00:00:00 | 1997-04-11 00:00:00 | 1997-04-04 00:00:00 |    1    |  68.52  |       Suprmes dlices      | Boulevard Tirou, 255 | Charleroi |    None    |     B-6000     |   Belgium   |\n",
       "+---------+------------+------------+---------------------+---------------------+---------------------+---------+---------+---------------------------+----------------------+-----------+------------+----------------+-------------+\n",
       "Truncated to displaylimit of 10."
      ]
     },
     "execution_count": 17,
     "metadata": {},
     "output_type": "execute_result"
    }
   ],
   "source": [
    "%%sql \n",
    "    SELECT \n",
    "    *  \n",
    "    FROM \n",
    "    Orders \n",
    "    WHERE \n",
    "    CustomerID IN \n",
    "    ('VINET', 'QUICK', 'SUPRD') \n",
    "    AND \n",
    "    (ShipVia = 1 OR ShipVia = 2); "
   ]
  },
  {
   "attachments": {},
   "cell_type": "markdown",
   "id": "7a51093c",
   "metadata": {},
   "source": [
    "### Challenge question\n",
    "\n",
    "Find the employees in the Northwind database who are either Sales Representatives or Sales Managers and are based in London.\n"
   ]
  },
  {
   "cell_type": "code",
   "execution_count": 25,
   "id": "99479d5f",
   "metadata": {},
   "outputs": [
    {
     "data": {
      "text/html": [
       "<span style=\"None\">Running query in &#x27;sqlite:///Northwind.db&#x27;</span>"
      ],
      "text/plain": [
       "Running query in 'sqlite:///Northwind.db'"
      ]
     },
     "metadata": {},
     "output_type": "display_data"
    },
    {
     "data": {
      "text/html": [
       "<table>\n",
       "    <thead>\n",
       "        <tr>\n",
       "            <th>FirstName</th>\n",
       "            <th>LastName</th>\n",
       "        </tr>\n",
       "    </thead>\n",
       "    <tbody>\n",
       "        <tr>\n",
       "            <td>Michael</td>\n",
       "            <td>Suyama</td>\n",
       "        </tr>\n",
       "        <tr>\n",
       "            <td>Robert</td>\n",
       "            <td>King</td>\n",
       "        </tr>\n",
       "        <tr>\n",
       "            <td>Anne</td>\n",
       "            <td>Dodsworth</td>\n",
       "        </tr>\n",
       "    </tbody>\n",
       "</table>"
      ],
      "text/plain": [
       "+-----------+-----------+\n",
       "| FirstName |  LastName |\n",
       "+-----------+-----------+\n",
       "|  Michael  |   Suyama  |\n",
       "|   Robert  |    King   |\n",
       "|    Anne   | Dodsworth |\n",
       "+-----------+-----------+"
      ]
     },
     "execution_count": 25,
     "metadata": {},
     "output_type": "execute_result"
    }
   ],
   "source": [
    "%%sql\n",
    "    SELECT \n",
    "    FirstName, LastName\n",
    "    FROM \n",
    "    Employees \n",
    "    WHERE \n",
    "    (Title = 'Sales Representative' OR Title = 'Sales Managers') \n",
    "    AND \n",
    "    City = 'London';"
   ]
  },
  {
   "attachments": {},
   "cell_type": "markdown",
   "id": "b3c88335",
   "metadata": {},
   "source": [
    "## Solutions"
   ]
  },
  {
   "attachments": {},
   "cell_type": "markdown",
   "id": "a5084b12",
   "metadata": {},
   "source": [
    "### Exercise 1"
   ]
  },
  {
   "cell_type": "code",
   "execution_count": null,
   "id": "c968d875",
   "metadata": {
    "scrolled": true
   },
   "outputs": [],
   "source": [
    "%%sql\n",
    "SELECT \n",
    "    ContactName \n",
    "FROM \n",
    "    Customers \n",
    "WHERE \n",
    "    Country = 'Germany';\n"
   ]
  },
  {
   "attachments": {},
   "cell_type": "markdown",
   "id": "294d8eef",
   "metadata": {},
   "source": [
    "### Exercise 2"
   ]
  },
  {
   "cell_type": "code",
   "execution_count": null,
   "id": "03071e34",
   "metadata": {},
   "outputs": [],
   "source": [
    "%%sql\n",
    "\n",
    "SELECT \n",
    "    ProductName, Discontinued\n",
    "FROM \n",
    "    Products \n",
    "WHERE \n",
    "    UnitPrice > 30 \n",
    "    AND Discontinued = 1;\n"
   ]
  },
  {
   "attachments": {},
   "cell_type": "markdown",
   "id": "eafe40b6",
   "metadata": {},
   "source": [
    "### Exercise 3"
   ]
  },
  {
   "cell_type": "code",
   "execution_count": null,
   "id": "1ffd2239",
   "metadata": {},
   "outputs": [],
   "source": [
    "%%sql\n",
    "\n",
    "SELECT \n",
    "    ContactName, \n",
    "    Phone \n",
    "FROM \n",
    "    Customers \n",
    "WHERE \n",
    "    Country IN ('USA', 'Canada');\n"
   ]
  },
  {
   "attachments": {},
   "cell_type": "markdown",
   "id": "e9956efe",
   "metadata": {},
   "source": [
    "### Exercise 4"
   ]
  },
  {
   "cell_type": "code",
   "execution_count": null,
   "id": "cd662edc",
   "metadata": {},
   "outputs": [],
   "source": [
    "%%sql\n",
    "\n",
    "SELECT \n",
    "    * \n",
    "FROM \n",
    "    Orders \n",
    "WHERE \n",
    "    CustomerID IN ('VINET', 'QUICK', 'SUPRD')\n",
    "    AND ShipVia IN (1,2);"
   ]
  },
  {
   "attachments": {},
   "cell_type": "markdown",
   "id": "c1341a11",
   "metadata": {},
   "source": [
    "### Challenge question"
   ]
  },
  {
   "cell_type": "code",
   "execution_count": 23,
   "id": "9a0cf068",
   "metadata": {},
   "outputs": [
    {
     "data": {
      "text/html": [
       "<span style=\"None\">Running query in &#x27;sqlite:///Northwind.db&#x27;</span>"
      ],
      "text/plain": [
       "Running query in 'sqlite:///Northwind.db'"
      ]
     },
     "metadata": {},
     "output_type": "display_data"
    },
    {
     "data": {
      "text/html": [
       "<table>\n",
       "    <thead>\n",
       "        <tr>\n",
       "            <th>FirstName</th>\n",
       "            <th>LastName</th>\n",
       "        </tr>\n",
       "    </thead>\n",
       "    <tbody>\n",
       "        <tr>\n",
       "            <td>Steven</td>\n",
       "            <td>Buchanan</td>\n",
       "        </tr>\n",
       "        <tr>\n",
       "            <td>Michael</td>\n",
       "            <td>Suyama</td>\n",
       "        </tr>\n",
       "        <tr>\n",
       "            <td>Robert</td>\n",
       "            <td>King</td>\n",
       "        </tr>\n",
       "        <tr>\n",
       "            <td>Anne</td>\n",
       "            <td>Dodsworth</td>\n",
       "        </tr>\n",
       "    </tbody>\n",
       "</table>"
      ],
      "text/plain": [
       "+-----------+-----------+\n",
       "| FirstName |  LastName |\n",
       "+-----------+-----------+\n",
       "|   Steven  |  Buchanan |\n",
       "|  Michael  |   Suyama  |\n",
       "|   Robert  |    King   |\n",
       "|    Anne   | Dodsworth |\n",
       "+-----------+-----------+"
      ]
     },
     "execution_count": 23,
     "metadata": {},
     "output_type": "execute_result"
    }
   ],
   "source": [
    "%%sql\n",
    "\n",
    "SELECT \n",
    "    FirstName, \n",
    "    LastName \n",
    "FROM \n",
    "    Employees \n",
    "WHERE \n",
    "    (Title = 'Sales Representative' OR Title = 'Sales Manager') \n",
    "    AND City = 'London';"
   ]
  },
  {
   "attachments": {},
   "cell_type": "markdown",
   "id": "6d8d9bdd",
   "metadata": {},
   "source": [
    "<div align=\"center\" style=\" font-size: 80%; text-align: center; margin: 0 auto\">\n",
    "<img src=\"https://raw.githubusercontent.com/Explore-AI/Pictures/refs/heads/master/ALX_banners/ALX_Navy.png\"  style=\"width:100px\"  ;/>\n",
    "</div>"
   ]
  }
 ],
 "metadata": {
  "kernelspec": {
   "display_name": "Python 3 (ipykernel)",
   "language": "python",
   "name": "python3"
  },
  "language_info": {
   "codemirror_mode": {
    "name": "ipython",
    "version": 3
   },
   "file_extension": ".py",
   "mimetype": "text/x-python",
   "name": "python",
   "nbconvert_exporter": "python",
   "pygments_lexer": "ipython3",
   "version": "3.13.2"
  }
 },
 "nbformat": 4,
 "nbformat_minor": 5
}
