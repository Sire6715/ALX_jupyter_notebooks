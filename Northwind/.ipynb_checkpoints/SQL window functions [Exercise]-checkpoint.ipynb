{
 "cells": [
  {
   "cell_type": "markdown",
   "id": "51b1254d",
   "metadata": {},
   "source": [
    "<div align=\"right\" style=\" font-size: 80%; text-align: center; margin: 0 auto\">\n",
    "<img src=\"https://raw.githubusercontent.com/Explore-AI/Pictures/master/ExploreAI_logos/Logo blue_dark.png\"  style=\"width:25px\" align=\"right\";/>\n",
    "</div>"
   ]
  },
  {
   "cell_type": "markdown",
   "id": "e4ec4253",
   "metadata": {},
   "source": [
    "<div align=\"right\" style=\" font-size: 80%; text-align: center; margin: 0 auto\">\n",
    "<img\n",
    " src=\"https://raw.githubusercontent.com/Explore-AI/Pictures/master/alx-courses/aice/assets/Content_page_banner_blue_dots.png\"\n",
    " alt=\"ALX Content Header\"\n",
    " class=\"full-width-image\"\n",
    "/>\n",
    "</div>"
   ]
  },
  {
   "cell_type": "markdown",
   "id": "f662d169",
   "metadata": {},
   "source": [
    "# SQL window functions"
   ]
  },
  {
   "cell_type": "markdown",
   "id": "26af890c",
   "metadata": {},
   "source": [
    "In this exercise, we will test our understanding and application of SQL window functions on a sample SQLite database file for a retail company called Northwind by performing complex calculations and analyses like ranking, running totals, and date differences. Ensure that you have downloaded the database file, Northwind.db."
   ]
  },
  {
   "cell_type": "markdown",
   "id": "2d230d14",
   "metadata": {},
   "source": [
    "## Learning objectives\n",
    "\n",
    "By the end of this train, you should:\n",
    "- Use the RANK() function to assign a ranking number to each row based on the order specified within the window.\n",
    "- Use aggregate window functions to calculate running totals. \n",
    "- Use the LAG() function to help calculate the difference, in days, between consecutive date readings in our dataset.\n",
    "- Use aggregate window functions to calculate the moving average. "
   ]
  },
  {
   "cell_type": "markdown",
   "id": "7fd5e3b8",
   "metadata": {},
   "source": [
    "First, let's load our sample database:"
   ]
  },
  {
   "cell_type": "code",
   "execution_count": 1,
   "id": "2d0d820e",
   "metadata": {},
   "outputs": [],
   "source": [
    "# Load and activate the SQL extension to allow us to execute SQL in a Jupyter notebook.\n",
    "%load_ext sql\n"
   ]
  },
  {
   "cell_type": "code",
   "execution_count": 2,
   "id": "599e3c6c",
   "metadata": {},
   "outputs": [
    {
     "data": {
      "text/html": [
       "<span style=\"None\">Connecting to &#x27;sqlite:///Northwind.db&#x27;</span>"
      ],
      "text/plain": [
       "Connecting to 'sqlite:///Northwind.db'"
      ]
     },
     "metadata": {},
     "output_type": "display_data"
    }
   ],
   "source": [
    "# Load the Northwind database stored in your local machine. \n",
    "# Make sure the file is saved in the same folder as this notebook.\n",
    "%sql sqlite:///Northwind.db\n",
    "    "
   ]
  },
  {
   "cell_type": "markdown",
   "id": "06af8b46",
   "metadata": {},
   "source": [
    "Here is a view of all of our tables in the database:"
   ]
  },
  {
   "cell_type": "markdown",
   "id": "69217e12",
   "metadata": {},
   "source": [
    "<div align=\"center\" style=\" font-size: 80%; text-align: center; margin: 0 auto\">\n",
    "<img src=\"https://raw.githubusercontent.com/Explore-AI/Pictures/master/Northwind_ERD.png\"  style=\"width:500px\";/>\n",
    "<br>\n",
    "<br>\n",
    "    <em>Figure 1: Northwind ERD</em>\n",
    "</div>"
   ]
  },
  {
   "cell_type": "markdown",
   "id": "920e89d2",
   "metadata": {},
   "source": [
    "## Exercise\n",
    "\n",
    "Run the necessary queries that will provide us with the following information. Compare your queries with the solutions at the end of this notebook."
   ]
  },
  {
   "attachments": {},
   "cell_type": "markdown",
   "id": "466e53c1",
   "metadata": {},
   "source": [
    "### Exercise 1\n",
    "\n",
    "Rank all the orders of a specific customer from the most recent to the least recent using window functions. Assume that the customer ID is `'ALFKI'`."
   ]
  },
  {
   "cell_type": "code",
   "execution_count": 12,
   "id": "038f28ea",
   "metadata": {},
   "outputs": [
    {
     "data": {
      "text/html": [
       "<span style=\"None\">Running query in &#x27;sqlite:///Northwind.db&#x27;</span>"
      ],
      "text/plain": [
       "Running query in 'sqlite:///Northwind.db'"
      ]
     },
     "metadata": {},
     "output_type": "display_data"
    },
    {
     "data": {
      "text/html": [
       "<table>\n",
       "    <thead>\n",
       "        <tr>\n",
       "            <th>OrderID</th>\n",
       "            <th>CustomerID</th>\n",
       "            <th>EmployeeID</th>\n",
       "            <th>OrderDate</th>\n",
       "            <th>RequiredDate</th>\n",
       "            <th>ShippedDate</th>\n",
       "            <th>ShipVia</th>\n",
       "            <th>Freight</th>\n",
       "            <th>ShipName</th>\n",
       "            <th>ShipAddress</th>\n",
       "            <th>ShipCity</th>\n",
       "            <th>ShipRegion</th>\n",
       "            <th>ShipPostalCode</th>\n",
       "            <th>ShipCountry</th>\n",
       "            <th>Ranked_OrderDate</th>\n",
       "        </tr>\n",
       "    </thead>\n",
       "    <tbody>\n",
       "        <tr>\n",
       "            <td>11011</td>\n",
       "            <td>ALFKI</td>\n",
       "            <td>3</td>\n",
       "            <td>1998-04-09 00:00:00</td>\n",
       "            <td>1998-05-07 00:00:00</td>\n",
       "            <td>1998-04-13 00:00:00</td>\n",
       "            <td>1</td>\n",
       "            <td>1.21</td>\n",
       "            <td>Alfred-s Futterkiste</td>\n",
       "            <td>Obere Str. 57</td>\n",
       "            <td>Berlin</td>\n",
       "            <td>None</td>\n",
       "            <td>12209</td>\n",
       "            <td>Germany</td>\n",
       "            <td>1</td>\n",
       "        </tr>\n",
       "        <tr>\n",
       "            <td>10952</td>\n",
       "            <td>ALFKI</td>\n",
       "            <td>1</td>\n",
       "            <td>1998-03-16 00:00:00</td>\n",
       "            <td>1998-04-27 00:00:00</td>\n",
       "            <td>1998-03-24 00:00:00</td>\n",
       "            <td>1</td>\n",
       "            <td>40.42</td>\n",
       "            <td>Alfred-s Futterkiste</td>\n",
       "            <td>Obere Str. 57</td>\n",
       "            <td>Berlin</td>\n",
       "            <td>None</td>\n",
       "            <td>12209</td>\n",
       "            <td>Germany</td>\n",
       "            <td>2</td>\n",
       "        </tr>\n",
       "        <tr>\n",
       "            <td>10835</td>\n",
       "            <td>ALFKI</td>\n",
       "            <td>1</td>\n",
       "            <td>1998-01-15 00:00:00</td>\n",
       "            <td>1998-02-12 00:00:00</td>\n",
       "            <td>1998-01-21 00:00:00</td>\n",
       "            <td>3</td>\n",
       "            <td>69.53</td>\n",
       "            <td>Alfred-s Futterkiste</td>\n",
       "            <td>Obere Str. 57</td>\n",
       "            <td>Berlin</td>\n",
       "            <td>None</td>\n",
       "            <td>12209</td>\n",
       "            <td>Germany</td>\n",
       "            <td>3</td>\n",
       "        </tr>\n",
       "        <tr>\n",
       "            <td>10702</td>\n",
       "            <td>ALFKI</td>\n",
       "            <td>4</td>\n",
       "            <td>1997-10-13 00:00:00</td>\n",
       "            <td>1997-11-24 00:00:00</td>\n",
       "            <td>1997-10-21 00:00:00</td>\n",
       "            <td>1</td>\n",
       "            <td>23.94</td>\n",
       "            <td>Alfred-s Futterkiste</td>\n",
       "            <td>Obere Str. 57</td>\n",
       "            <td>Berlin</td>\n",
       "            <td>None</td>\n",
       "            <td>12209</td>\n",
       "            <td>Germany</td>\n",
       "            <td>4</td>\n",
       "        </tr>\n",
       "        <tr>\n",
       "            <td>10692</td>\n",
       "            <td>ALFKI</td>\n",
       "            <td>4</td>\n",
       "            <td>1997-10-03 00:00:00</td>\n",
       "            <td>1997-10-31 00:00:00</td>\n",
       "            <td>1997-10-13 00:00:00</td>\n",
       "            <td>2</td>\n",
       "            <td>61.02</td>\n",
       "            <td>Alfred-s Futterkiste</td>\n",
       "            <td>Obere Str. 57</td>\n",
       "            <td>Berlin</td>\n",
       "            <td>None</td>\n",
       "            <td>12209</td>\n",
       "            <td>Germany</td>\n",
       "            <td>5</td>\n",
       "        </tr>\n",
       "        <tr>\n",
       "            <td>10643</td>\n",
       "            <td>ALFKI</td>\n",
       "            <td>6</td>\n",
       "            <td>1997-08-25 00:00:00</td>\n",
       "            <td>1997-09-22 00:00:00</td>\n",
       "            <td>1997-09-02 00:00:00</td>\n",
       "            <td>1</td>\n",
       "            <td>29.46</td>\n",
       "            <td>Alfreds Futterkiste</td>\n",
       "            <td>Obere Str. 57</td>\n",
       "            <td>Berlin</td>\n",
       "            <td>None</td>\n",
       "            <td>12209</td>\n",
       "            <td>Germany</td>\n",
       "            <td>6</td>\n",
       "        </tr>\n",
       "    </tbody>\n",
       "</table>"
      ],
      "text/plain": [
       "+---------+------------+------------+---------------------+---------------------+---------------------+---------+---------+----------------------+---------------+----------+------------+----------------+-------------+------------------+\n",
       "| OrderID | CustomerID | EmployeeID |      OrderDate      |     RequiredDate    |     ShippedDate     | ShipVia | Freight |       ShipName       |  ShipAddress  | ShipCity | ShipRegion | ShipPostalCode | ShipCountry | Ranked_OrderDate |\n",
       "+---------+------------+------------+---------------------+---------------------+---------------------+---------+---------+----------------------+---------------+----------+------------+----------------+-------------+------------------+\n",
       "|  11011  |   ALFKI    |     3      | 1998-04-09 00:00:00 | 1998-05-07 00:00:00 | 1998-04-13 00:00:00 |    1    |   1.21  | Alfred-s Futterkiste | Obere Str. 57 |  Berlin  |    None    |     12209      |   Germany   |        1         |\n",
       "|  10952  |   ALFKI    |     1      | 1998-03-16 00:00:00 | 1998-04-27 00:00:00 | 1998-03-24 00:00:00 |    1    |  40.42  | Alfred-s Futterkiste | Obere Str. 57 |  Berlin  |    None    |     12209      |   Germany   |        2         |\n",
       "|  10835  |   ALFKI    |     1      | 1998-01-15 00:00:00 | 1998-02-12 00:00:00 | 1998-01-21 00:00:00 |    3    |  69.53  | Alfred-s Futterkiste | Obere Str. 57 |  Berlin  |    None    |     12209      |   Germany   |        3         |\n",
       "|  10702  |   ALFKI    |     4      | 1997-10-13 00:00:00 | 1997-11-24 00:00:00 | 1997-10-21 00:00:00 |    1    |  23.94  | Alfred-s Futterkiste | Obere Str. 57 |  Berlin  |    None    |     12209      |   Germany   |        4         |\n",
       "|  10692  |   ALFKI    |     4      | 1997-10-03 00:00:00 | 1997-10-31 00:00:00 | 1997-10-13 00:00:00 |    2    |  61.02  | Alfred-s Futterkiste | Obere Str. 57 |  Berlin  |    None    |     12209      |   Germany   |        5         |\n",
       "|  10643  |   ALFKI    |     6      | 1997-08-25 00:00:00 | 1997-09-22 00:00:00 | 1997-09-02 00:00:00 |    1    |  29.46  | Alfreds Futterkiste  | Obere Str. 57 |  Berlin  |    None    |     12209      |   Germany   |        6         |\n",
       "+---------+------------+------------+---------------------+---------------------+---------------------+---------+---------+----------------------+---------------+----------+------------+----------------+-------------+------------------+"
      ]
     },
     "execution_count": 12,
     "metadata": {},
     "output_type": "execute_result"
    }
   ],
   "source": [
    "%%sql\n",
    "SELECT\n",
    "    *,\n",
    "    RANK() OVER( PARTITION BY customerID ORDER BY OrderDate DESC) AS Ranked_OrderDate\n",
    "FROM \n",
    "    Orders \n",
    "WHERE customerID = 'ALFKI';"
   ]
  },
  {
   "attachments": {},
   "cell_type": "markdown",
   "id": "86802726",
   "metadata": {},
   "source": [
    "### Exercise 2\n",
    "\n",
    "Calculate a running total of the quantity of orders using window functions."
   ]
  },
  {
   "cell_type": "code",
   "execution_count": 16,
   "id": "91f3421f",
   "metadata": {},
   "outputs": [
    {
     "data": {
      "text/html": [
       "<span style=\"None\">Running query in &#x27;sqlite:///Northwind.db&#x27;</span>"
      ],
      "text/plain": [
       "Running query in 'sqlite:///Northwind.db'"
      ]
     },
     "metadata": {},
     "output_type": "display_data"
    },
    {
     "name": "stderr",
     "output_type": "stream",
     "text": [
      "RuntimeError: (sqlite3.OperationalError) no such column: Qunatity\n",
      "[SQL: SELECT SUM(Quantity) OVER (PARTITION BY Orders.OrderDate ORDER BY Qunatity ASC)\n",
      "FROM OrderDetails;]\n",
      "(Background on this error at: https://sqlalche.me/e/20/e3q8)\n"
     ]
    }
   ],
   "source": [
    "%%sql\n",
    "SELECT SUM(Quantity) OVER (PARTITION BY Orders.OrderDate ORDER BY Qunatity ASC)\n",
    "FROM OrderDetails;"
   ]
  },
  {
   "attachments": {},
   "cell_type": "markdown",
   "id": "f0fade51",
   "metadata": {},
   "source": [
    "### Exercise 3\n",
    "\n",
    "\n",
    "Use window functions to find the difference in successive order dates for each customer. **HINT:** The `TIMESTAMPDIFF()` function in MySQL is not available in SQLite. We can use the `julianday()` function to convert the dates to a floating point number and then calculate the difference."
   ]
  },
  {
   "cell_type": "code",
   "execution_count": null,
   "id": "748f4263",
   "metadata": {},
   "outputs": [],
   "source": [
    "# Add your code here"
   ]
  },
  {
   "attachments": {},
   "cell_type": "markdown",
   "id": "f28aef00",
   "metadata": {},
   "source": [
    "### Exercise 4\n",
    "\n",
    "Calculate the moving average of the quantity of the last 3 orders for each product using window functions."
   ]
  },
  {
   "cell_type": "code",
   "execution_count": null,
   "id": "f4621a53",
   "metadata": {},
   "outputs": [],
   "source": [
    "# Add your code here"
   ]
  },
  {
   "cell_type": "markdown",
   "id": "b3c88335",
   "metadata": {},
   "source": [
    "## Solutions"
   ]
  },
  {
   "cell_type": "markdown",
   "id": "a5084b12",
   "metadata": {},
   "source": [
    "### Exercise 1"
   ]
  },
  {
   "cell_type": "code",
   "execution_count": null,
   "id": "c968d875",
   "metadata": {
    "scrolled": true
   },
   "outputs": [],
   "source": [
    "%%sql\n",
    "\n",
    "SELECT \n",
    "    OrderID, \n",
    "    OrderDate,\n",
    "    RANK() OVER (ORDER BY OrderDate DESC) as Order_rank\n",
    "FROM \n",
    "    Orders \n",
    "WHERE \n",
    "    CustomerID = 'ALFKI';"
   ]
  },
  {
   "attachments": {},
   "cell_type": "markdown",
   "id": "1d925020",
   "metadata": {},
   "source": [
    "The `RANK()` window function is used here to rank each order of the customer with the ID `'ALFKI'` based on the `OrderDate`. The `DESC` keyword is used so that the most recent order gets the highest rank (i.e. 1)."
   ]
  },
  {
   "cell_type": "markdown",
   "id": "294d8eef",
   "metadata": {},
   "source": [
    "### Exercise 2"
   ]
  },
  {
   "cell_type": "code",
   "execution_count": null,
   "id": "03071e34",
   "metadata": {},
   "outputs": [],
   "source": [
    "%%sql\n",
    "\n",
    "SELECT \n",
    "    OrderID, \n",
    "    Quantity, \n",
    "    SUM(Quantity) OVER (\n",
    "    ORDER BY OrderID) as RunningTotal \n",
    "FROM \n",
    "    OrderDetails\n",
    "GROUP BY \n",
    "    OrderID;\n"
   ]
  },
  {
   "attachments": {},
   "cell_type": "markdown",
   "id": "de45d13a",
   "metadata": {},
   "source": [
    "The `SUM()` window function is used here to calculate a running total of the quantity of orders. The `ORDER BY` clause inside the `OVER()` clause ensures that the running total is calculated in the order of the `OrderID`. We then group our data by `OrderID`."
   ]
  },
  {
   "cell_type": "markdown",
   "id": "eafe40b6",
   "metadata": {},
   "source": [
    "### Exercise 3"
   ]
  },
  {
   "cell_type": "code",
   "execution_count": null,
   "id": "1ffd2239",
   "metadata": {},
   "outputs": [],
   "source": [
    "%%sql\n",
    "\n",
    "SELECT \n",
    "    CustomerID, \n",
    "    OrderDate, \n",
    "    LAG(OrderDate, 1) OVER \n",
    "        (PARTITION BY CustomerID \n",
    "        ORDER BY OrderDate) as PrevOrderDate, \n",
    "    julianday(OrderDate)-\n",
    "    julianday(LAG(OrderDate, 1) OVER\n",
    "            (PARTITION BY CustomerID \n",
    "            ORDER BY OrderDate)) as DateDiff\n",
    "FROM \n",
    "    Orders;"
   ]
  },
  {
   "cell_type": "markdown",
   "id": "94fb22ba",
   "metadata": {},
   "source": [
    "The `LAG()` window function is used twice here, once to get the previous order date for each customer, and again to calculate the difference between the current order date and the previous order date. The `PARTITION BY` clause is used to separate the data into partitions based on the `CustomerID`. \n",
    "\n",
    "Since the `TIMESTAMPDIFF()` function in MySQL is not available in SQLite, we use the `julianday()` function to convert the dates to a floating point number, which we can then use for subtraction to find the difference between two dates."
   ]
  },
  {
   "cell_type": "markdown",
   "id": "e9956efe",
   "metadata": {},
   "source": [
    "### Exercise 4"
   ]
  },
  {
   "cell_type": "code",
   "execution_count": null,
   "id": "cd662edc",
   "metadata": {},
   "outputs": [],
   "source": [
    "%%sql\n",
    "\n",
    "SELECT \n",
    "    OrderID, \n",
    "    ProductID, \n",
    "    Quantity,\n",
    "    AVG(Quantity) OVER (PARTITION BY ProductID ORDER BY OrderID ROWS BETWEEN 2 PRECEDING AND 0 FOLLOWING) as MovingAvgQuantity\n",
    "FROM \n",
    "    OrderDetails\n",
    "ORDER BY \n",
    "    ProductID, \n",
    "    OrderID;"
   ]
  },
  {
   "cell_type": "markdown",
   "id": "de7e3bcd",
   "metadata": {},
   "source": [
    "The `AVG()` window function is used here to calculate the moving average of `Quantity` for the last 3 orders (the current order and the two preceding orders) for each product. The window is defined using the `PARTITION BY` clause (to segment the data by `ProductID`) and the `ORDER BY` clause (to arrange the data in order of `OrderID`). The `ROWS BETWEEN` clause specifies the size and location of the window – in this case, **the current row and the two rows preceding it.**"
   ]
  },
  {
   "cell_type": "markdown",
   "id": "6d8d9bdd",
   "metadata": {},
   "source": [
    "#\n",
    "\n",
    "<div align=\"center\" style=\" font-size: 80%; text-align: center; margin: 0 auto\">\n",
    "<img src=\"https://raw.githubusercontent.com/Explore-AI/Pictures/refs/heads/master/ALX_banners/ALX_Navy.png\"  style=\"width:100px\"  ;/>\n",
    "</div>"
   ]
  }
 ],
 "metadata": {
  "kernelspec": {
   "display_name": "Python 3 (ipykernel)",
   "language": "python",
   "name": "python3"
  },
  "language_info": {
   "codemirror_mode": {
    "name": "ipython",
    "version": 3
   },
   "file_extension": ".py",
   "mimetype": "text/x-python",
   "name": "python",
   "nbconvert_exporter": "python",
   "pygments_lexer": "ipython3",
   "version": "3.13.2"
  }
 },
 "nbformat": 4,
 "nbformat_minor": 5
}
