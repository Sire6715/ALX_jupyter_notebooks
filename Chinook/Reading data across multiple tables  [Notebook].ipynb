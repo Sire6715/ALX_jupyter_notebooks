{
 "cells": [
  {
   "cell_type": "markdown",
   "id": "51b1254d",
   "metadata": {},
   "source": [
    "<div align=\"right\" style=\" font-size: 80%; text-align: center; margin: 0 auto\">\n",
    "<img\n",
    " src=\"https://raw.githubusercontent.com/Explore-AI/Pictures/master/alx-courses/aice/assets/Content_page_banner_blue_dots.png\"\n",
    " alt=\"ALX Content Header\"\n",
    " class=\"full-width-image\"\n",
    "/>\n",
    "</div>"
   ]
  },
  {
   "cell_type": "markdown",
   "id": "f662d169",
   "metadata": {},
   "source": [
    "# Reading data across multiple tables"
   ]
  },
  {
   "cell_type": "markdown",
   "id": "26af890c",
   "metadata": {},
   "source": [
    "In this exercise, we will learn how to read data from a sample database for a digital media company called Chinook that has tables for artists, albums, media tracks, invoices, and customers. "
   ]
  },
  {
   "cell_type": "markdown",
   "id": "2d230d14",
   "metadata": {},
   "source": [
    "## Learning objectives\n",
    "\n",
    "By the end of this train, you should be able to:\n",
    "- Read data from a single column in a single table.\n",
    "- Read data from multiple columns in a single table.\n",
    "- Read data from multiple columns in multiple tables."
   ]
  },
  {
   "cell_type": "markdown",
   "id": "7fd5e3b8",
   "metadata": {},
   "source": [
    "First, let's load our sample database: You can download the chinook zip file from [here](https://github.com/Explore-AI/Public-Data/blob/master/Data/SQL/Chinook_db.zip)"
   ]
  },
  {
   "cell_type": "code",
   "execution_count": 2,
   "id": "2d0d820e",
   "metadata": {},
   "outputs": [],
   "source": [
    "# Load and activate the SQL extension to allow us to execute SQL in a Jupyter notebook.\n",
    "%load_ext sql\n"
   ]
  },
  {
   "cell_type": "code",
   "execution_count": 3,
   "id": "599e3c6c",
   "metadata": {},
   "outputs": [
    {
     "data": {
      "text/html": [
       "<span style=\"None\">Connecting to &#x27;sqlite:///chinook.db&#x27;</span>"
      ],
      "text/plain": [
       "Connecting to 'sqlite:///chinook.db'"
      ]
     },
     "metadata": {},
     "output_type": "display_data"
    }
   ],
   "source": [
    "# Load the Chinook database stored in your local machine. \n",
    "# Make sure the file is saved in the same folder as this notebook.\n",
    "%sql sqlite:///chinook.db"
   ]
  },
  {
   "cell_type": "markdown",
   "id": "06af8b46",
   "metadata": {},
   "source": [
    "Here is a [view](https://www.lucidchart.com/pages/er-diagrams) of all of our tables in the database:"
   ]
  },
  {
   "cell_type": "markdown",
   "id": "e3d3c848",
   "metadata": {},
   "source": [
    "<div align=\"center\" style=\" font-size: 80%; text-align: center; margin: 0 auto\">\n",
    "<img src=\"https://github.com/Explore-AI/Pictures/blob/master/sqlite-sample-database-color.jpg?raw=true\"  style=\"width:500px\";/>\n",
    "<br>\n",
    "<br>\n",
    "    <em>Figure 1: Chinook ERD</em>\n",
    "</div>\n"
   ]
  },
  {
   "cell_type": "markdown",
   "id": "653e9dbb",
   "metadata": {},
   "source": [
    "[Image source](https://www.sqlitetutorial.net/sqlite-sample-database/)"
   ]
  },
  {
   "cell_type": "markdown",
   "id": "920e89d2",
   "metadata": {},
   "source": [
    "## Reading data from a database\n",
    "\n",
    "When reading data from a database like the Chinook database, we can read from a single column in a single table, multiple columns in a single table, or multiple columns in various tables within the database.\n",
    "\n",
    "Let's explore the differences between the above queries."
   ]
  },
  {
   "cell_type": "markdown",
   "id": "466e53c1",
   "metadata": {},
   "source": [
    "### 1. Reading data from a single column in a single table in the database.\n",
    "\n",
    "Let's write a query that returns the names of all Chinook digital media store customers.\n",
    "\n",
    "For this query, we would need to read data from the `FirstName` column in the `customers` table (see ER diagram above)."
   ]
  },
  {
   "cell_type": "code",
   "execution_count": 11,
   "id": "e49f3aa5-3f22-4d16-bee0-6039dff0081d",
   "metadata": {},
   "outputs": [
    {
     "data": {
      "text/html": [
       "<span style=\"None\">Running query in &#x27;sqlite:///chinook.db&#x27;</span>"
      ],
      "text/plain": [
       "Running query in 'sqlite:///chinook.db'"
      ]
     },
     "metadata": {},
     "output_type": "display_data"
    },
    {
     "data": {
      "text/html": [
       "<table>\n",
       "    <thead>\n",
       "        <tr>\n",
       "            <th>EmployeeId</th>\n",
       "            <th>LastName</th>\n",
       "            <th>FirstName</th>\n",
       "            <th>Title</th>\n",
       "            <th>ReportsTo</th>\n",
       "            <th>BirthDate</th>\n",
       "            <th>HireDate</th>\n",
       "            <th>Address</th>\n",
       "            <th>City</th>\n",
       "            <th>State</th>\n",
       "            <th>Country</th>\n",
       "            <th>PostalCode</th>\n",
       "            <th>Phone</th>\n",
       "            <th>Fax</th>\n",
       "            <th>Email</th>\n",
       "        </tr>\n",
       "    </thead>\n",
       "    <tbody>\n",
       "        <tr>\n",
       "            <td>1</td>\n",
       "            <td>Adams</td>\n",
       "            <td>Andrew</td>\n",
       "            <td>General Manager</td>\n",
       "            <td>None</td>\n",
       "            <td>1962-02-18 00:00:00</td>\n",
       "            <td>2002-08-14 00:00:00</td>\n",
       "            <td>11120 Jasper Ave NW</td>\n",
       "            <td>Edmonton</td>\n",
       "            <td>AB</td>\n",
       "            <td>Canada</td>\n",
       "            <td>T5K 2N1</td>\n",
       "            <td>+1 (780) 428-9482</td>\n",
       "            <td>+1 (780) 428-3457</td>\n",
       "            <td>andrew@chinookcorp.com</td>\n",
       "        </tr>\n",
       "        <tr>\n",
       "            <td>2</td>\n",
       "            <td>Edwards</td>\n",
       "            <td>Nancy</td>\n",
       "            <td>Sales Manager</td>\n",
       "            <td>1</td>\n",
       "            <td>1958-12-08 00:00:00</td>\n",
       "            <td>2002-05-01 00:00:00</td>\n",
       "            <td>825 8 Ave SW</td>\n",
       "            <td>Calgary</td>\n",
       "            <td>AB</td>\n",
       "            <td>Canada</td>\n",
       "            <td>T2P 2T3</td>\n",
       "            <td>+1 (403) 262-3443</td>\n",
       "            <td>+1 (403) 262-3322</td>\n",
       "            <td>nancy@chinookcorp.com</td>\n",
       "        </tr>\n",
       "        <tr>\n",
       "            <td>3</td>\n",
       "            <td>Peacock</td>\n",
       "            <td>Jane</td>\n",
       "            <td>Sales Support Agent</td>\n",
       "            <td>2</td>\n",
       "            <td>1973-08-29 00:00:00</td>\n",
       "            <td>2002-04-01 00:00:00</td>\n",
       "            <td>1111 6 Ave SW</td>\n",
       "            <td>Calgary</td>\n",
       "            <td>AB</td>\n",
       "            <td>Canada</td>\n",
       "            <td>T2P 5M5</td>\n",
       "            <td>+1 (403) 262-3443</td>\n",
       "            <td>+1 (403) 262-6712</td>\n",
       "            <td>jane@chinookcorp.com</td>\n",
       "        </tr>\n",
       "        <tr>\n",
       "            <td>4</td>\n",
       "            <td>Park</td>\n",
       "            <td>Margaret</td>\n",
       "            <td>Sales Support Agent</td>\n",
       "            <td>2</td>\n",
       "            <td>1947-09-19 00:00:00</td>\n",
       "            <td>2003-05-03 00:00:00</td>\n",
       "            <td>683 10 Street SW</td>\n",
       "            <td>Calgary</td>\n",
       "            <td>AB</td>\n",
       "            <td>Canada</td>\n",
       "            <td>T2P 5G3</td>\n",
       "            <td>+1 (403) 263-4423</td>\n",
       "            <td>+1 (403) 263-4289</td>\n",
       "            <td>margaret@chinookcorp.com</td>\n",
       "        </tr>\n",
       "        <tr>\n",
       "            <td>5</td>\n",
       "            <td>Johnson</td>\n",
       "            <td>Steve</td>\n",
       "            <td>Sales Support Agent</td>\n",
       "            <td>2</td>\n",
       "            <td>1965-03-03 00:00:00</td>\n",
       "            <td>2003-10-17 00:00:00</td>\n",
       "            <td>7727B 41 Ave</td>\n",
       "            <td>Calgary</td>\n",
       "            <td>AB</td>\n",
       "            <td>Canada</td>\n",
       "            <td>T3B 1Y7</td>\n",
       "            <td>1 (780) 836-9987</td>\n",
       "            <td>1 (780) 836-9543</td>\n",
       "            <td>steve@chinookcorp.com</td>\n",
       "        </tr>\n",
       "        <tr>\n",
       "            <td>6</td>\n",
       "            <td>Mitchell</td>\n",
       "            <td>Michael</td>\n",
       "            <td>IT Manager</td>\n",
       "            <td>1</td>\n",
       "            <td>1973-07-01 00:00:00</td>\n",
       "            <td>2003-10-17 00:00:00</td>\n",
       "            <td>5827 Bowness Road NW</td>\n",
       "            <td>Calgary</td>\n",
       "            <td>AB</td>\n",
       "            <td>Canada</td>\n",
       "            <td>T3B 0C5</td>\n",
       "            <td>+1 (403) 246-9887</td>\n",
       "            <td>+1 (403) 246-9899</td>\n",
       "            <td>michael@chinookcorp.com</td>\n",
       "        </tr>\n",
       "        <tr>\n",
       "            <td>7</td>\n",
       "            <td>King</td>\n",
       "            <td>Robert</td>\n",
       "            <td>IT Staff</td>\n",
       "            <td>6</td>\n",
       "            <td>1970-05-29 00:00:00</td>\n",
       "            <td>2004-01-02 00:00:00</td>\n",
       "            <td>590 Columbia Boulevard West</td>\n",
       "            <td>Lethbridge</td>\n",
       "            <td>AB</td>\n",
       "            <td>Canada</td>\n",
       "            <td>T1K 5N8</td>\n",
       "            <td>+1 (403) 456-9986</td>\n",
       "            <td>+1 (403) 456-8485</td>\n",
       "            <td>robert@chinookcorp.com</td>\n",
       "        </tr>\n",
       "        <tr>\n",
       "            <td>8</td>\n",
       "            <td>Callahan</td>\n",
       "            <td>Laura</td>\n",
       "            <td>IT Staff</td>\n",
       "            <td>6</td>\n",
       "            <td>1968-01-09 00:00:00</td>\n",
       "            <td>2004-03-04 00:00:00</td>\n",
       "            <td>923 7 ST NW</td>\n",
       "            <td>Lethbridge</td>\n",
       "            <td>AB</td>\n",
       "            <td>Canada</td>\n",
       "            <td>T1H 1Y8</td>\n",
       "            <td>+1 (403) 467-3351</td>\n",
       "            <td>+1 (403) 467-8772</td>\n",
       "            <td>laura@chinookcorp.com</td>\n",
       "        </tr>\n",
       "    </tbody>\n",
       "</table>"
      ],
      "text/plain": [
       "+------------+----------+-----------+---------------------+-----------+---------------------+---------------------+-----------------------------+------------+-------+---------+------------+-------------------+-------------------+--------------------------+\n",
       "| EmployeeId | LastName | FirstName |        Title        | ReportsTo |      BirthDate      |       HireDate      |           Address           |    City    | State | Country | PostalCode |       Phone       |        Fax        |          Email           |\n",
       "+------------+----------+-----------+---------------------+-----------+---------------------+---------------------+-----------------------------+------------+-------+---------+------------+-------------------+-------------------+--------------------------+\n",
       "|     1      |  Adams   |   Andrew  |   General Manager   |    None   | 1962-02-18 00:00:00 | 2002-08-14 00:00:00 |     11120 Jasper Ave NW     |  Edmonton  |   AB  |  Canada |  T5K 2N1   | +1 (780) 428-9482 | +1 (780) 428-3457 |  andrew@chinookcorp.com  |\n",
       "|     2      | Edwards  |   Nancy   |    Sales Manager    |     1     | 1958-12-08 00:00:00 | 2002-05-01 00:00:00 |         825 8 Ave SW        |  Calgary   |   AB  |  Canada |  T2P 2T3   | +1 (403) 262-3443 | +1 (403) 262-3322 |  nancy@chinookcorp.com   |\n",
       "|     3      | Peacock  |    Jane   | Sales Support Agent |     2     | 1973-08-29 00:00:00 | 2002-04-01 00:00:00 |        1111 6 Ave SW        |  Calgary   |   AB  |  Canada |  T2P 5M5   | +1 (403) 262-3443 | +1 (403) 262-6712 |   jane@chinookcorp.com   |\n",
       "|     4      |   Park   |  Margaret | Sales Support Agent |     2     | 1947-09-19 00:00:00 | 2003-05-03 00:00:00 |       683 10 Street SW      |  Calgary   |   AB  |  Canada |  T2P 5G3   | +1 (403) 263-4423 | +1 (403) 263-4289 | margaret@chinookcorp.com |\n",
       "|     5      | Johnson  |   Steve   | Sales Support Agent |     2     | 1965-03-03 00:00:00 | 2003-10-17 00:00:00 |         7727B 41 Ave        |  Calgary   |   AB  |  Canada |  T3B 1Y7   |  1 (780) 836-9987 |  1 (780) 836-9543 |  steve@chinookcorp.com   |\n",
       "|     6      | Mitchell |  Michael  |      IT Manager     |     1     | 1973-07-01 00:00:00 | 2003-10-17 00:00:00 |     5827 Bowness Road NW    |  Calgary   |   AB  |  Canada |  T3B 0C5   | +1 (403) 246-9887 | +1 (403) 246-9899 | michael@chinookcorp.com  |\n",
       "|     7      |   King   |   Robert  |       IT Staff      |     6     | 1970-05-29 00:00:00 | 2004-01-02 00:00:00 | 590 Columbia Boulevard West | Lethbridge |   AB  |  Canada |  T1K 5N8   | +1 (403) 456-9986 | +1 (403) 456-8485 |  robert@chinookcorp.com  |\n",
       "|     8      | Callahan |   Laura   |       IT Staff      |     6     | 1968-01-09 00:00:00 | 2004-03-04 00:00:00 |         923 7 ST NW         | Lethbridge |   AB  |  Canada |  T1H 1Y8   | +1 (403) 467-3351 | +1 (403) 467-8772 |  laura@chinookcorp.com   |\n",
       "+------------+----------+-----------+---------------------+-----------+---------------------+---------------------+-----------------------------+------------+-------+---------+------------+-------------------+-------------------+--------------------------+"
      ]
     },
     "execution_count": 11,
     "metadata": {},
     "output_type": "execute_result"
    }
   ],
   "source": [
    "%%sql\n",
    "SELECT * FROM employees\n"
   ]
  },
  {
   "cell_type": "code",
   "execution_count": 4,
   "id": "038f28ea",
   "metadata": {},
   "outputs": [
    {
     "data": {
      "text/html": [
       "<span style=\"None\">Running query in &#x27;sqlite:///chinook.db&#x27;</span>"
      ],
      "text/plain": [
       "Running query in 'sqlite:///chinook.db'"
      ]
     },
     "metadata": {},
     "output_type": "display_data"
    },
    {
     "data": {
      "text/html": [
       "<table>\n",
       "    <thead>\n",
       "        <tr>\n",
       "            <th>FirstName</th>\n",
       "        </tr>\n",
       "    </thead>\n",
       "    <tbody>\n",
       "        <tr>\n",
       "            <td>Luís</td>\n",
       "        </tr>\n",
       "        <tr>\n",
       "            <td>Leonie</td>\n",
       "        </tr>\n",
       "        <tr>\n",
       "            <td>François</td>\n",
       "        </tr>\n",
       "        <tr>\n",
       "            <td>Bjørn</td>\n",
       "        </tr>\n",
       "        <tr>\n",
       "            <td>František</td>\n",
       "        </tr>\n",
       "        <tr>\n",
       "            <td>Helena</td>\n",
       "        </tr>\n",
       "        <tr>\n",
       "            <td>Astrid</td>\n",
       "        </tr>\n",
       "        <tr>\n",
       "            <td>Daan</td>\n",
       "        </tr>\n",
       "        <tr>\n",
       "            <td>Kara</td>\n",
       "        </tr>\n",
       "        <tr>\n",
       "            <td>Eduardo</td>\n",
       "        </tr>\n",
       "    </tbody>\n",
       "</table>\n",
       "<span style=\"font-style:italic;text-align:center;\">Truncated to <a href=\"https://jupysql.ploomber.io/en/latest/api/configuration.html#displaylimit\">displaylimit</a> of 10.</span>"
      ],
      "text/plain": [
       "+-----------+\n",
       "| FirstName |\n",
       "+-----------+\n",
       "|    Luís   |\n",
       "|   Leonie  |\n",
       "|  François |\n",
       "|   Bjørn   |\n",
       "| František |\n",
       "|   Helena  |\n",
       "|   Astrid  |\n",
       "|    Daan   |\n",
       "|    Kara   |\n",
       "|  Eduardo  |\n",
       "+-----------+\n",
       "Truncated to displaylimit of 10."
      ]
     },
     "execution_count": 4,
     "metadata": {},
     "output_type": "execute_result"
    }
   ],
   "source": [
    "%%sql \n",
    "\n",
    "SELECT FirstName \n",
    "FROM customers\n",
    "LIMIT 10; -- Remove this line to see the full result."
   ]
  },
  {
   "cell_type": "markdown",
   "id": "a5084b12",
   "metadata": {},
   "source": [
    "### 2. Reading data from multiple columns in a single table in the database.\n",
    "Let's write a query to find out when each Chinook employee was hired. \n",
    "\n",
    "Looking at the ER diagram above, for this query, we would need to read data from the `FirstName`, `LastName`, and `HireDate` column(s) in the `employees` table.\n"
   ]
  },
  {
   "cell_type": "code",
   "execution_count": 5,
   "id": "c968d875",
   "metadata": {
    "scrolled": true
   },
   "outputs": [
    {
     "data": {
      "text/html": [
       "<span style=\"None\">Running query in &#x27;sqlite:///chinook.db&#x27;</span>"
      ],
      "text/plain": [
       "Running query in 'sqlite:///chinook.db'"
      ]
     },
     "metadata": {},
     "output_type": "display_data"
    },
    {
     "data": {
      "text/html": [
       "<table>\n",
       "    <thead>\n",
       "        <tr>\n",
       "            <th>FirstName</th>\n",
       "            <th>LastName</th>\n",
       "            <th>HireDate</th>\n",
       "        </tr>\n",
       "    </thead>\n",
       "    <tbody>\n",
       "        <tr>\n",
       "            <td>Andrew</td>\n",
       "            <td>Adams</td>\n",
       "            <td>2002-08-14 00:00:00</td>\n",
       "        </tr>\n",
       "        <tr>\n",
       "            <td>Nancy</td>\n",
       "            <td>Edwards</td>\n",
       "            <td>2002-05-01 00:00:00</td>\n",
       "        </tr>\n",
       "        <tr>\n",
       "            <td>Jane</td>\n",
       "            <td>Peacock</td>\n",
       "            <td>2002-04-01 00:00:00</td>\n",
       "        </tr>\n",
       "        <tr>\n",
       "            <td>Margaret</td>\n",
       "            <td>Park</td>\n",
       "            <td>2003-05-03 00:00:00</td>\n",
       "        </tr>\n",
       "        <tr>\n",
       "            <td>Steve</td>\n",
       "            <td>Johnson</td>\n",
       "            <td>2003-10-17 00:00:00</td>\n",
       "        </tr>\n",
       "        <tr>\n",
       "            <td>Michael</td>\n",
       "            <td>Mitchell</td>\n",
       "            <td>2003-10-17 00:00:00</td>\n",
       "        </tr>\n",
       "        <tr>\n",
       "            <td>Robert</td>\n",
       "            <td>King</td>\n",
       "            <td>2004-01-02 00:00:00</td>\n",
       "        </tr>\n",
       "        <tr>\n",
       "            <td>Laura</td>\n",
       "            <td>Callahan</td>\n",
       "            <td>2004-03-04 00:00:00</td>\n",
       "        </tr>\n",
       "    </tbody>\n",
       "</table>"
      ],
      "text/plain": [
       "+-----------+----------+---------------------+\n",
       "| FirstName | LastName |       HireDate      |\n",
       "+-----------+----------+---------------------+\n",
       "|   Andrew  |  Adams   | 2002-08-14 00:00:00 |\n",
       "|   Nancy   | Edwards  | 2002-05-01 00:00:00 |\n",
       "|    Jane   | Peacock  | 2002-04-01 00:00:00 |\n",
       "|  Margaret |   Park   | 2003-05-03 00:00:00 |\n",
       "|   Steve   | Johnson  | 2003-10-17 00:00:00 |\n",
       "|  Michael  | Mitchell | 2003-10-17 00:00:00 |\n",
       "|   Robert  |   King   | 2004-01-02 00:00:00 |\n",
       "|   Laura   | Callahan | 2004-03-04 00:00:00 |\n",
       "+-----------+----------+---------------------+"
      ]
     },
     "execution_count": 5,
     "metadata": {},
     "output_type": "execute_result"
    }
   ],
   "source": [
    "%%sql\n",
    "\n",
    "SELECT FirstName, LastName, HireDate\n",
    "FROM employees;"
   ]
  },
  {
   "cell_type": "markdown",
   "id": "2a52441f",
   "metadata": {},
   "source": [
    "In the above query, we have specified multiple columns by **separating each column name in the list with a comma**."
   ]
  },
  {
   "cell_type": "markdown",
   "id": "4ce1e7d7",
   "metadata": {},
   "source": [
    "### 3. Reading data from multiple columns in multiple tables in the database.\n",
    "\n",
    "Let's write a query that lists album titles and the corresponding artists.\n",
    "\n",
    "Based on the ER diagram, for this query, we would need to read data from the `Title` column in the `albums` table and the `Name` column in the `artists` table where the `Artistid` in the `artists` table is the same as the `Artistid` in the `albums` table."
   ]
  },
  {
   "cell_type": "code",
   "execution_count": 6,
   "id": "6f5614e2",
   "metadata": {},
   "outputs": [
    {
     "data": {
      "text/html": [
       "<span style=\"None\">Running query in &#x27;sqlite:///chinook.db&#x27;</span>"
      ],
      "text/plain": [
       "Running query in 'sqlite:///chinook.db'"
      ]
     },
     "metadata": {},
     "output_type": "display_data"
    },
    {
     "data": {
      "text/html": [
       "<table>\n",
       "    <thead>\n",
       "        <tr>\n",
       "            <th>Title</th>\n",
       "            <th>Name</th>\n",
       "        </tr>\n",
       "    </thead>\n",
       "    <tbody>\n",
       "        <tr>\n",
       "            <td>For Those About To Rock We Salute You</td>\n",
       "            <td>AC/DC</td>\n",
       "        </tr>\n",
       "        <tr>\n",
       "            <td>For Those About To Rock We Salute You</td>\n",
       "            <td>Accept</td>\n",
       "        </tr>\n",
       "        <tr>\n",
       "            <td>For Those About To Rock We Salute You</td>\n",
       "            <td>Aerosmith</td>\n",
       "        </tr>\n",
       "        <tr>\n",
       "            <td>For Those About To Rock We Salute You</td>\n",
       "            <td>Alanis Morissette</td>\n",
       "        </tr>\n",
       "        <tr>\n",
       "            <td>For Those About To Rock We Salute You</td>\n",
       "            <td>Alice In Chains</td>\n",
       "        </tr>\n",
       "        <tr>\n",
       "            <td>For Those About To Rock We Salute You</td>\n",
       "            <td>Antônio Carlos Jobim</td>\n",
       "        </tr>\n",
       "        <tr>\n",
       "            <td>For Those About To Rock We Salute You</td>\n",
       "            <td>Apocalyptica</td>\n",
       "        </tr>\n",
       "        <tr>\n",
       "            <td>For Those About To Rock We Salute You</td>\n",
       "            <td>Audioslave</td>\n",
       "        </tr>\n",
       "        <tr>\n",
       "            <td>For Those About To Rock We Salute You</td>\n",
       "            <td>BackBeat</td>\n",
       "        </tr>\n",
       "        <tr>\n",
       "            <td>For Those About To Rock We Salute You</td>\n",
       "            <td>Billy Cobham</td>\n",
       "        </tr>\n",
       "    </tbody>\n",
       "</table>\n",
       "<span style=\"font-style:italic;text-align:center;\">Truncated to <a href=\"https://jupysql.ploomber.io/en/latest/api/configuration.html#displaylimit\">displaylimit</a> of 10.</span>"
      ],
      "text/plain": [
       "+---------------------------------------+----------------------+\n",
       "|                 Title                 |         Name         |\n",
       "+---------------------------------------+----------------------+\n",
       "| For Those About To Rock We Salute You |        AC/DC         |\n",
       "| For Those About To Rock We Salute You |        Accept        |\n",
       "| For Those About To Rock We Salute You |      Aerosmith       |\n",
       "| For Those About To Rock We Salute You |  Alanis Morissette   |\n",
       "| For Those About To Rock We Salute You |   Alice In Chains    |\n",
       "| For Those About To Rock We Salute You | Antônio Carlos Jobim |\n",
       "| For Those About To Rock We Salute You |     Apocalyptica     |\n",
       "| For Those About To Rock We Salute You |      Audioslave      |\n",
       "| For Those About To Rock We Salute You |       BackBeat       |\n",
       "| For Those About To Rock We Salute You |     Billy Cobham     |\n",
       "+---------------------------------------+----------------------+\n",
       "Truncated to displaylimit of 10."
      ]
     },
     "execution_count": 6,
     "metadata": {},
     "output_type": "execute_result"
    }
   ],
   "source": [
    "\n",
    "%%sql\n",
    "\n",
    "SELECT albums.Title, artists.Name\n",
    "FROM albums, artists\n",
    "LIMIT 200; -- Remove this line to see the full result "
   ]
  },
  {
   "cell_type": "markdown",
   "id": "683c46d6",
   "metadata": {},
   "source": [
    "In the above query, we used a dot convention to tell SQL which table each selected column belongs to. This method is particularly useful in cases where the specified tables have columns with the same name. For example, the `artists` table and the `albums` table both have an `ArtistId` field.\n",
    "\n",
    "However, the query above doesn't seem to have provided what we wanted. If we take a closer look and remove the `LIMIT` keyword, we  notice that each artist has written every album in the table (despite other artists having written the same album). \n",
    "\n",
    "This is because we need to align the records between the tables, making sure that the relevant records in one table correspond to the correct records in the second table. We can achieve this by using the `WHERE` clause to connect the tables using a common field between the two tables.\n",
    "\n",
    "The query would look like this:\n",
    "\n",
    "```SQL\n",
    "SELECT table1.field1, table2.field3 \n",
    "FROM table1, table2\n",
    "WHERE table1.field1_id = table2.field1_id;\n",
    "```\n",
    "\n",
    "Let's rewrite the above query, but this time using the `WHERE` clause to align the records **where the `Artistid` in the `artists` table is the same as the `Artistid` in the `albums` table**.\n"
   ]
  },
  {
   "cell_type": "code",
   "execution_count": 7,
   "id": "03071e34",
   "metadata": {},
   "outputs": [
    {
     "data": {
      "text/html": [
       "<span style=\"None\">Running query in &#x27;sqlite:///chinook.db&#x27;</span>"
      ],
      "text/plain": [
       "Running query in 'sqlite:///chinook.db'"
      ]
     },
     "metadata": {},
     "output_type": "display_data"
    },
    {
     "data": {
      "text/html": [
       "<table>\n",
       "    <thead>\n",
       "        <tr>\n",
       "            <th>Title</th>\n",
       "            <th>Name</th>\n",
       "        </tr>\n",
       "    </thead>\n",
       "    <tbody>\n",
       "        <tr>\n",
       "            <td>For Those About To Rock We Salute You</td>\n",
       "            <td>AC/DC</td>\n",
       "        </tr>\n",
       "        <tr>\n",
       "            <td>Balls to the Wall</td>\n",
       "            <td>Accept</td>\n",
       "        </tr>\n",
       "        <tr>\n",
       "            <td>Restless and Wild</td>\n",
       "            <td>Accept</td>\n",
       "        </tr>\n",
       "        <tr>\n",
       "            <td>Let There Be Rock</td>\n",
       "            <td>AC/DC</td>\n",
       "        </tr>\n",
       "        <tr>\n",
       "            <td>Big Ones</td>\n",
       "            <td>Aerosmith</td>\n",
       "        </tr>\n",
       "        <tr>\n",
       "            <td>Jagged Little Pill</td>\n",
       "            <td>Alanis Morissette</td>\n",
       "        </tr>\n",
       "        <tr>\n",
       "            <td>Facelift</td>\n",
       "            <td>Alice In Chains</td>\n",
       "        </tr>\n",
       "        <tr>\n",
       "            <td>Warner 25 Anos</td>\n",
       "            <td>Antônio Carlos Jobim</td>\n",
       "        </tr>\n",
       "        <tr>\n",
       "            <td>Plays Metallica By Four Cellos</td>\n",
       "            <td>Apocalyptica</td>\n",
       "        </tr>\n",
       "        <tr>\n",
       "            <td>Audioslave</td>\n",
       "            <td>Audioslave</td>\n",
       "        </tr>\n",
       "    </tbody>\n",
       "</table>\n",
       "<span style=\"font-style:italic;text-align:center;\">Truncated to <a href=\"https://jupysql.ploomber.io/en/latest/api/configuration.html#displaylimit\">displaylimit</a> of 10.</span>"
      ],
      "text/plain": [
       "+---------------------------------------+----------------------+\n",
       "|                 Title                 |         Name         |\n",
       "+---------------------------------------+----------------------+\n",
       "| For Those About To Rock We Salute You |        AC/DC         |\n",
       "|           Balls to the Wall           |        Accept        |\n",
       "|           Restless and Wild           |        Accept        |\n",
       "|           Let There Be Rock           |        AC/DC         |\n",
       "|                Big Ones               |      Aerosmith       |\n",
       "|           Jagged Little Pill          |  Alanis Morissette   |\n",
       "|                Facelift               |   Alice In Chains    |\n",
       "|             Warner 25 Anos            | Antônio Carlos Jobim |\n",
       "|     Plays Metallica By Four Cellos    |     Apocalyptica     |\n",
       "|               Audioslave              |      Audioslave      |\n",
       "+---------------------------------------+----------------------+\n",
       "Truncated to displaylimit of 10."
      ]
     },
     "execution_count": 7,
     "metadata": {},
     "output_type": "execute_result"
    }
   ],
   "source": [
    "%%sql\n",
    "\n",
    "SELECT albums.Title, artists.Name\n",
    "FROM albums, artists\n",
    "WHERE artists.Artistid = albums.Artistid\n",
    "LIMIT 10; -- Remove this line to see the full result "
   ]
  },
  {
   "cell_type": "markdown",
   "id": "761eb48c",
   "metadata": {},
   "source": [
    "Unlike before, the returned data are aligned perfectly between both tables. We were able to get all albums and the corresponding artists."
   ]
  },
  {
   "cell_type": "markdown",
   "id": "6d8d9bdd",
   "metadata": {},
   "source": [
    "<div align=\"center\" style=\" font-size: 80%; text-align: center; margin: 0 auto\">\n",
    "<img src=\"https://raw.githubusercontent.com/Explore-AI/Pictures/refs/heads/master/ALX_banners/ALX_Navy.png\"  style=\"width:100px\"  ;/>\n",
    "</div>"
   ]
  }
 ],
 "metadata": {
  "kernelspec": {
   "display_name": "Python 3 (ipykernel)",
   "language": "python",
   "name": "python3"
  },
  "language_info": {
   "codemirror_mode": {
    "name": "ipython",
    "version": 3
   },
   "file_extension": ".py",
   "mimetype": "text/x-python",
   "name": "python",
   "nbconvert_exporter": "python",
   "pygments_lexer": "ipython3",
   "version": "3.13.2"
  }
 },
 "nbformat": 4,
 "nbformat_minor": 5
}
